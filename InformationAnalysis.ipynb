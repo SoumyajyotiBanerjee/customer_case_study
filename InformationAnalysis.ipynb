{
 "cells": [
  {
   "cell_type": "markdown",
   "metadata": {},
   "source": [
    "# Case Study For Customer Segmentation\n",
    "## Initial setup\n",
    "\n",
    "Importing all required libraries and loading the data"
   ]
  },
  {
   "cell_type": "code",
   "execution_count": 307,
   "metadata": {},
   "outputs": [
    {
     "data": {
      "text/html": [
       "<div>\n",
       "<style scoped>\n",
       "    .dataframe tbody tr th:only-of-type {\n",
       "        vertical-align: middle;\n",
       "    }\n",
       "\n",
       "    .dataframe tbody tr th {\n",
       "        vertical-align: top;\n",
       "    }\n",
       "\n",
       "    .dataframe thead th {\n",
       "        text-align: right;\n",
       "    }\n",
       "</style>\n",
       "<table border=\"1\" class=\"dataframe\">\n",
       "  <thead>\n",
       "    <tr style=\"text-align: right;\">\n",
       "      <th></th>\n",
       "      <th>customer_id</th>\n",
       "      <th>First Time</th>\n",
       "      <th>Recent Time</th>\n",
       "      <th># of Orders</th>\n",
       "      <th># of Orders in last 7 days</th>\n",
       "      <th># of Orders in last 4 weeks</th>\n",
       "      <th>Amount</th>\n",
       "      <th>Amount in last 7 days</th>\n",
       "      <th>Amount in last 4 weeks</th>\n",
       "      <th>Avg_DistanceFromResturant</th>\n",
       "      <th>Avg_DeliveryTime</th>\n",
       "    </tr>\n",
       "  </thead>\n",
       "  <tbody>\n",
       "    <tr>\n",
       "      <th>0</th>\n",
       "      <td>1269647</td>\n",
       "      <td>6/29/15 10:57</td>\n",
       "      <td>12/10/15 2:18</td>\n",
       "      <td>212</td>\n",
       "      <td>6.0</td>\n",
       "      <td>43.0</td>\n",
       "      <td>138808</td>\n",
       "      <td>4291</td>\n",
       "      <td>26853</td>\n",
       "      <td>1.6</td>\n",
       "      <td>51</td>\n",
       "    </tr>\n",
       "    <tr>\n",
       "      <th>1</th>\n",
       "      <td>167631</td>\n",
       "      <td>7/4/15 15:39</td>\n",
       "      <td>12/15/15 14:42</td>\n",
       "      <td>211</td>\n",
       "      <td>8.0</td>\n",
       "      <td>19.0</td>\n",
       "      <td>56404</td>\n",
       "      <td>1925</td>\n",
       "      <td>4177</td>\n",
       "      <td>2.2</td>\n",
       "      <td>42</td>\n",
       "    </tr>\n",
       "    <tr>\n",
       "      <th>2</th>\n",
       "      <td>301524</td>\n",
       "      <td>6/26/15 9:56</td>\n",
       "      <td>12/9/15 20:45</td>\n",
       "      <td>189</td>\n",
       "      <td>9.0</td>\n",
       "      <td>33.0</td>\n",
       "      <td>36020</td>\n",
       "      <td>1772</td>\n",
       "      <td>6404</td>\n",
       "      <td>2.5</td>\n",
       "      <td>57</td>\n",
       "    </tr>\n",
       "    <tr>\n",
       "      <th>3</th>\n",
       "      <td>1268254</td>\n",
       "      <td>7/1/15 1:51</td>\n",
       "      <td>12/14/15 1:43</td>\n",
       "      <td>184</td>\n",
       "      <td>6.0</td>\n",
       "      <td>37.0</td>\n",
       "      <td>32489</td>\n",
       "      <td>975</td>\n",
       "      <td>7110</td>\n",
       "      <td>3.1</td>\n",
       "      <td>55</td>\n",
       "    </tr>\n",
       "    <tr>\n",
       "      <th>4</th>\n",
       "      <td>357161</td>\n",
       "      <td>7/11/15 18:34</td>\n",
       "      <td>12/19/15 23:26</td>\n",
       "      <td>182</td>\n",
       "      <td>4.0</td>\n",
       "      <td>23.0</td>\n",
       "      <td>85150</td>\n",
       "      <td>1738</td>\n",
       "      <td>9958</td>\n",
       "      <td>2.4</td>\n",
       "      <td>36</td>\n",
       "    </tr>\n",
       "  </tbody>\n",
       "</table>\n",
       "</div>"
      ],
      "text/plain": [
       "   customer_id     First Time     Recent Time  # of Orders  \\\n",
       "0      1269647  6/29/15 10:57   12/10/15 2:18          212   \n",
       "1       167631   7/4/15 15:39  12/15/15 14:42          211   \n",
       "2       301524   6/26/15 9:56   12/9/15 20:45          189   \n",
       "3      1268254    7/1/15 1:51   12/14/15 1:43          184   \n",
       "4       357161  7/11/15 18:34  12/19/15 23:26          182   \n",
       "\n",
       "   # of Orders in last 7 days  # of Orders in last 4 weeks  Amount  \\\n",
       "0                         6.0                         43.0  138808   \n",
       "1                         8.0                         19.0   56404   \n",
       "2                         9.0                         33.0   36020   \n",
       "3                         6.0                         37.0   32489   \n",
       "4                         4.0                         23.0   85150   \n",
       "\n",
       "   Amount in last 7 days  Amount in last 4 weeks  Avg_DistanceFromResturant  \\\n",
       "0                   4291                   26853                        1.6   \n",
       "1                   1925                    4177                        2.2   \n",
       "2                   1772                    6404                        2.5   \n",
       "3                    975                    7110                        3.1   \n",
       "4                   1738                    9958                        2.4   \n",
       "\n",
       "   Avg_DeliveryTime  \n",
       "0                51  \n",
       "1                42  \n",
       "2                57  \n",
       "3                55  \n",
       "4                36  "
      ]
     },
     "metadata": {},
     "output_type": "display_data"
    }
   ],
   "source": [
    "# Import Modules\n",
    "import pandas as pd \n",
    "import numpy as np\n",
    "import matplotlib\n",
    "import matplotlib.pyplot as plt\n",
    "from IPython.display import display, HTML\n",
    "import csv\n",
    "from sklearn.feature_selection import VarianceThreshold\n",
    "from sklearn.cluster import KMeans\n",
    "from sklearn import metrics\n",
    "from scipy.spatial.distance import cdist\n",
    "import numpy as np\n",
    "import matplotlib.pyplot as plt\n",
    "from datetime import datetime as dt\n",
    "import datetime\n",
    "\n",
    "FILE_NAME = 'information.csv'\n",
    "\n",
    "input_data = pd.read_csv(FILE_NAME)\n",
    "display(input_data.head(5))"
   ]
  },
  {
   "cell_type": "markdown",
   "metadata": {},
   "source": [
    "### Feature Engineering\n",
    "1. This part helps to get the count of the values of the input data.\n",
    "2. Added Four Derived Attributes (customer_duration, customer_recency, Avg_Ticket_Value, Customer_Value) to make the feature slection process easier\n",
    "#### customer_duration\n",
    "This signifies how much time customer is accustomed with the platform.\n",
    "#### customer_recency\n",
    "This signifies the time difference of last order of the data.\n",
    "#### Avg_Ticket_Value\n",
    "This signifies the avg spending pattern of the user\n",
    "#### Customer_Value\n",
    "This signifies that week by week spending is decreasing or increasing. If spending increases customer value increases and if it decreases then customer value is decreasing."
   ]
  },
  {
   "cell_type": "code",
   "execution_count": 266,
   "metadata": {},
   "outputs": [
    {
     "name": "stdout",
     "output_type": "stream",
     "text": [
      "('Number of rows: ', 10000)\n"
     ]
    },
    {
     "data": {
      "text/html": [
       "<div>\n",
       "<style scoped>\n",
       "    .dataframe tbody tr th:only-of-type {\n",
       "        vertical-align: middle;\n",
       "    }\n",
       "\n",
       "    .dataframe tbody tr th {\n",
       "        vertical-align: top;\n",
       "    }\n",
       "\n",
       "    .dataframe thead th {\n",
       "        text-align: right;\n",
       "    }\n",
       "</style>\n",
       "<table border=\"1\" class=\"dataframe\">\n",
       "  <thead>\n",
       "    <tr style=\"text-align: right;\">\n",
       "      <th></th>\n",
       "      <th>customer_id</th>\n",
       "      <th># of Orders</th>\n",
       "      <th># of Orders in last 7 days</th>\n",
       "      <th># of Orders in last 4 weeks</th>\n",
       "      <th>Amount</th>\n",
       "      <th>Amount in last 7 days</th>\n",
       "      <th>Amount in last 4 weeks</th>\n",
       "      <th>Avg_DistanceFromResturant</th>\n",
       "      <th>Avg_DeliveryTime</th>\n",
       "    </tr>\n",
       "  </thead>\n",
       "  <tbody>\n",
       "    <tr>\n",
       "      <th>Count of values</th>\n",
       "      <td>10000.0</td>\n",
       "      <td>10000.0</td>\n",
       "      <td>1923.0</td>\n",
       "      <td>4341.0</td>\n",
       "      <td>10000.0</td>\n",
       "      <td>10000.0</td>\n",
       "      <td>10000.0</td>\n",
       "      <td>10000.0</td>\n",
       "      <td>10000.0</td>\n",
       "    </tr>\n",
       "  </tbody>\n",
       "</table>\n",
       "</div>"
      ],
      "text/plain": [
       "                 customer_id  # of Orders  # of Orders in last 7 days  \\\n",
       "Count of values      10000.0      10000.0                      1923.0   \n",
       "\n",
       "                 # of Orders in last 4 weeks   Amount  Amount in last 7 days  \\\n",
       "Count of values                       4341.0  10000.0                10000.0   \n",
       "\n",
       "                 Amount in last 4 weeks  Avg_DistanceFromResturant  \\\n",
       "Count of values                 10000.0                    10000.0   \n",
       "\n",
       "                 Avg_DeliveryTime  \n",
       "Count of values           10000.0  "
      ]
     },
     "metadata": {},
     "output_type": "display_data"
    }
   ],
   "source": [
    "print(\"Number of rows: \",input_data.shape[0])\n",
    "counts = input_data.describe().iloc[0]\n",
    "display(\n",
    "    pd.DataFrame(\n",
    "        counts.tolist(), \n",
    "        columns=[\"Count of values\"], \n",
    "        index=counts.index.values\n",
    "    ).transpose()\n",
    ")\n",
    "\n",
    "input_data['First Time']=pd.to_datetime(input_data['First Time'], infer_datetime_format=True)\n",
    "input_data['Recent Time']=pd.to_datetime(input_data['Recent Time'], infer_datetime_format=True)\n",
    "input_data['customer_duration'] = input_data.apply(lambda x: (datetime.date.today()-x['First Time'].date()).days, axis=1)\n",
    "input_data['customer_recency'] = input_data.apply(lambda x: (datetime.date.today()-x['Recent Time'].date()).days, axis=1)\n",
    "input_data['Avg_Ticket_Value'] = input_data['Amount']*1.0/input_data['# of Orders']\n",
    "input_data['Customer_Value'] = input_data['Amount in last 7 days'] - (input_data['Amount in last 4 weeks']*1.0/4)"
   ]
  },
  {
   "cell_type": "markdown",
   "metadata": {},
   "source": [
    "### Feature Selection\n",
    "Used __SVD__ to remove redundant feature.\n",
    "1. Prior That  data standardization have been done\n",
    "2. value = value-min/max-min has been applied to standardize that though Recency weightage should have been calculated seperately in reverse manner (that has been done below)\n",
    "3. Selection of columns has been done based on _svd components_"
   ]
  },
  {
   "cell_type": "code",
   "execution_count": 267,
   "metadata": {},
   "outputs": [],
   "source": [
    "\n",
    "input_data['#_of_Orders']=(input_data['# of Orders']-input_data['# of Orders'].min()*1.0)/(input_data['# of Orders'].max()-input_data['# of Orders'].min())\n",
    "input_data['#_of_Orders_in_last_7_days']=(input_data['# of Orders in last 7 days']-input_data['# of Orders in last 7 days'].min()*1.0)/(input_data['# of Orders in last 7 days'].max()-input_data['# of Orders in last 7 days'].min())\n",
    "input_data['#_of_Orders_in_last_4_weeks']=(input_data['# of Orders in last 4 weeks']-input_data['# of Orders in last 4 weeks'].min()*1.0)/(input_data['# of Orders in last 4 weeks'].max()-input_data['# of Orders in last 4 weeks'].min())\n",
    "input_data['Amount_']=(input_data['Amount']-input_data['Amount'].min()*1.0)/(input_data['Amount'].max()-input_data['Amount'].min())\n",
    "input_data['Amount_in_last_7_days']=(input_data['Amount in last 7 days']-input_data['Amount in last 7 days'].min()*1.0)/(input_data['Amount in last 7 days'].max()-input_data['Amount in last 7 days'].min())\n",
    "input_data['Amount_in_last_4_weeks']=(input_data['Amount in last 4 weeks']-input_data['Amount in last 4 weeks'].min()*1.0)/(input_data['Amount in last 4 weeks'].max()-input_data['Amount in last 4 weeks'].min())\n",
    "input_data['Avg_DistanceFromResturant_']=(input_data['Avg_DistanceFromResturant']-input_data['Avg_DistanceFromResturant'].min()*1.0)/(input_data['Avg_DistanceFromResturant'].max()-input_data['Avg_DistanceFromResturant'].min())\n",
    "input_data['Avg_DeliveryTime_']=(input_data['Avg_DeliveryTime']-input_data['Avg_DeliveryTime'].min()*1.0)/(input_data['Avg_DeliveryTime'].max()-input_data['Avg_DeliveryTime'].min())\n",
    "input_data['duration']=(input_data['customer_duration']-input_data['customer_duration'].min()*1.0)/(input_data['customer_duration'].max()-input_data['customer_duration'].min())\n",
    "input_data['recency']=(input_data['customer_recency']-input_data['customer_recency'].min()*1.0)/(input_data['customer_recency'].max()-input_data['customer_recency'].min())\n",
    "input_data['Avg_Ticket_Value_'] = (input_data['Avg_Ticket_Value']-input_data['Avg_Ticket_Value'].min()*1.0)/(input_data['Avg_Ticket_Value'].max()-input_data['Avg_Ticket_Value'].min())\n",
    "input_data['Customer_Value_'] = (input_data['Customer_Value']-input_data['Customer_Value'].min()*1.0)/(input_data['Customer_Value'].max()-input_data['Customer_Value'].min())"
   ]
  },
  {
   "cell_type": "code",
   "execution_count": 268,
   "metadata": {},
   "outputs": [
    {
     "data": {
      "text/plain": [
       "'+0.089*#_of_Ordersget the dimensions coeff +0.064*#_of_Orders_in_last_7_daysget the dimensions coeff +0.093*#_of_Orders_in_last_4_weeksget the dimensions coeff +0.045*Amount_get the dimensions coeff +0.061*Amount_in_last_7_daysget the dimensions coeff +0.062*Amount_in_last_4_weeksget the dimensions coeff +0.482*Avg_DistanceFromResturant_get the dimensions coeff +0.336*Avg_DeliveryTime_get the dimensions coeff +0.627*durationget the dimensions coeff +0.145*recencyget the dimensions coeff +0.035*Avg_Ticket_Value_get the dimensions coeff +0.457*Customer_Value_'"
      ]
     },
     "metadata": {},
     "output_type": "display_data"
    }
   ],
   "source": [
    "from sklearn.decomposition import TruncatedSVD\n",
    "dataframe = input_data[['#_of_Orders','#_of_Orders_in_last_7_days','#_of_Orders_in_last_4_weeks','Amount_','Amount_in_last_7_days','Amount_in_last_4_weeks','Avg_DistanceFromResturant_','Avg_DeliveryTime_','duration','recency','Avg_Ticket_Value_','Customer_Value_']]\n",
    "svd = TruncatedSVD(n_components=9, n_iter=15, random_state=42)\n",
    "dataframe=dataframe.dropna()\n",
    "svd.fit(dataframe.values.tolist()) \n",
    "#print(svd.explained_variance_ratio_)\n",
    "var_ratios=svd.explained_variance_ratio_\n",
    "#print(svd.singular_values_)\n",
    "display( \"get the dimensions coeff\" \n",
    "\" \".join([\n",
    "    \"%+0.3f*%s\" % (coef, feat) \n",
    "    for coef, feat in zip(svd.components_[0], dataframe.columns)\n",
    "]))"
   ]
  },
  {
   "cell_type": "markdown",
   "metadata": {},
   "source": [
    "Based on __SVD__ From This data set following columns has been selected \n",
    "1. #_of_Orders\n",
    "3. #_of_Orders_in_last_4_weeks\n",
    "4. Avg_DistanceFromResturant\n",
    "5. Avg_DeliveryTime\n",
    "6. customer_duration\n",
    "7. customer_recency \n",
    "\n",
    "Here #_of_Orders_in_last_4_weeks contains NA, Based on Perception, if no order data available we can can consider that no order has been placed in that period.\n",
    "P.S - Refinement can be done, based on Amount (if amount==0 then order 0 else, populate based on Avg ticket value)"
   ]
  },
  {
   "cell_type": "code",
   "execution_count": null,
   "metadata": {},
   "outputs": [],
   "source": []
  },
  {
   "cell_type": "markdown",
   "metadata": {},
   "source": [
    "# Feature Selection\n",
    "Based on SVD results we will select \n",
    "1. No of Orders\n",
    "3. No of Orders in last 4 weeks\n",
    "4. Avg_DistanceFromResturant\n",
    "5. Avg_DeliveryTime\n",
    "6. customer_duration\n",
    "7. customer_recency\n",
    "\n",
    "For further analysis"
   ]
  },
  {
   "cell_type": "code",
   "execution_count": 269,
   "metadata": {},
   "outputs": [
    {
     "name": "stdout",
     "output_type": "stream",
     "text": [
      "Columns Having None : ['#_of_Orders_in_last_4_weeks']\n"
     ]
    }
   ],
   "source": [
    "finaldataframe = input_data[['customer_id','#_of_Orders','#_of_Orders_in_last_4_weeks','Avg_DistanceFromResturant','Avg_DeliveryTime','customer_duration','customer_recency','Customer_Value']]\n",
    "print \"Columns Having None :\",finaldataframe.columns[finaldataframe.isna().any()].tolist()\n",
    "finaldataframe=finaldataframe.fillna(0)"
   ]
  },
  {
   "cell_type": "code",
   "execution_count": 270,
   "metadata": {},
   "outputs": [
    {
     "data": {
      "text/plain": [
       "(10000, 8)"
      ]
     },
     "execution_count": 270,
     "metadata": {},
     "output_type": "execute_result"
    }
   ],
   "source": [
    "finaldataframe.shape"
   ]
  },
  {
   "cell_type": "code",
   "execution_count": 304,
   "metadata": {},
   "outputs": [
    {
     "data": {
      "text/html": [
       "<div>\n",
       "<style scoped>\n",
       "    .dataframe tbody tr th:only-of-type {\n",
       "        vertical-align: middle;\n",
       "    }\n",
       "\n",
       "    .dataframe tbody tr th {\n",
       "        vertical-align: top;\n",
       "    }\n",
       "\n",
       "    .dataframe thead th {\n",
       "        text-align: right;\n",
       "    }\n",
       "</style>\n",
       "<table border=\"1\" class=\"dataframe\">\n",
       "  <thead>\n",
       "    <tr style=\"text-align: right;\">\n",
       "      <th></th>\n",
       "      <th>customer_id</th>\n",
       "      <th># of Orders</th>\n",
       "      <th># of Orders in last 4 weeks</th>\n",
       "      <th>Avg_DistanceFromResturant</th>\n",
       "      <th>Avg_DeliveryTime</th>\n",
       "      <th>customer_duration</th>\n",
       "      <th>customer_recency</th>\n",
       "      <th>Avg_Ticket_Value</th>\n",
       "      <th>Customer_Value</th>\n",
       "      <th>cluster_id</th>\n",
       "      <th>recency</th>\n",
       "      <th>duration</th>\n",
       "    </tr>\n",
       "  </thead>\n",
       "  <tbody>\n",
       "    <tr>\n",
       "      <th>0</th>\n",
       "      <td>1269647</td>\n",
       "      <td>212</td>\n",
       "      <td>43.0</td>\n",
       "      <td>1.6</td>\n",
       "      <td>51</td>\n",
       "      <td>1191</td>\n",
       "      <td>1027</td>\n",
       "      <td>654.754717</td>\n",
       "      <td>-2422.25</td>\n",
       "      <td>4</td>\n",
       "      <td>0.844749</td>\n",
       "      <td>0.888889</td>\n",
       "    </tr>\n",
       "    <tr>\n",
       "      <th>1</th>\n",
       "      <td>167631</td>\n",
       "      <td>211</td>\n",
       "      <td>19.0</td>\n",
       "      <td>2.2</td>\n",
       "      <td>42</td>\n",
       "      <td>1186</td>\n",
       "      <td>1022</td>\n",
       "      <td>267.317536</td>\n",
       "      <td>880.75</td>\n",
       "      <td>3</td>\n",
       "      <td>0.867580</td>\n",
       "      <td>0.865741</td>\n",
       "    </tr>\n",
       "    <tr>\n",
       "      <th>2</th>\n",
       "      <td>301524</td>\n",
       "      <td>189</td>\n",
       "      <td>33.0</td>\n",
       "      <td>2.5</td>\n",
       "      <td>57</td>\n",
       "      <td>1194</td>\n",
       "      <td>1028</td>\n",
       "      <td>190.582011</td>\n",
       "      <td>171.00</td>\n",
       "      <td>8</td>\n",
       "      <td>0.840183</td>\n",
       "      <td>0.902778</td>\n",
       "    </tr>\n",
       "    <tr>\n",
       "      <th>3</th>\n",
       "      <td>1268254</td>\n",
       "      <td>184</td>\n",
       "      <td>37.0</td>\n",
       "      <td>3.1</td>\n",
       "      <td>55</td>\n",
       "      <td>1189</td>\n",
       "      <td>1023</td>\n",
       "      <td>176.570652</td>\n",
       "      <td>-802.50</td>\n",
       "      <td>7</td>\n",
       "      <td>0.863014</td>\n",
       "      <td>0.879630</td>\n",
       "    </tr>\n",
       "    <tr>\n",
       "      <th>4</th>\n",
       "      <td>357161</td>\n",
       "      <td>182</td>\n",
       "      <td>23.0</td>\n",
       "      <td>2.4</td>\n",
       "      <td>36</td>\n",
       "      <td>1179</td>\n",
       "      <td>1018</td>\n",
       "      <td>467.857143</td>\n",
       "      <td>-751.50</td>\n",
       "      <td>7</td>\n",
       "      <td>0.885845</td>\n",
       "      <td>0.833333</td>\n",
       "    </tr>\n",
       "  </tbody>\n",
       "</table>\n",
       "</div>"
      ],
      "text/plain": [
       "   customer_id  # of Orders  # of Orders in last 4 weeks  \\\n",
       "0      1269647          212                         43.0   \n",
       "1       167631          211                         19.0   \n",
       "2       301524          189                         33.0   \n",
       "3      1268254          184                         37.0   \n",
       "4       357161          182                         23.0   \n",
       "\n",
       "   Avg_DistanceFromResturant  Avg_DeliveryTime  customer_duration  \\\n",
       "0                        1.6                51               1191   \n",
       "1                        2.2                42               1186   \n",
       "2                        2.5                57               1194   \n",
       "3                        3.1                55               1189   \n",
       "4                        2.4                36               1179   \n",
       "\n",
       "   customer_recency  Avg_Ticket_Value  Customer_Value  cluster_id   recency  \\\n",
       "0              1027        654.754717        -2422.25           4  0.844749   \n",
       "1              1022        267.317536          880.75           3  0.867580   \n",
       "2              1028        190.582011          171.00           8  0.840183   \n",
       "3              1023        176.570652         -802.50           7  0.863014   \n",
       "4              1018        467.857143         -751.50           7  0.885845   \n",
       "\n",
       "   duration  \n",
       "0  0.888889  \n",
       "1  0.865741  \n",
       "2  0.902778  \n",
       "3  0.879630  \n",
       "4  0.833333  "
      ]
     },
     "metadata": {},
     "output_type": "display_data"
    }
   ],
   "source": [
    "display(finaldataframe.head())"
   ]
  },
  {
   "cell_type": "markdown",
   "metadata": {},
   "source": [
    "#### Histogram Analysis for few relevel attributes to check the distribution of the data"
   ]
  },
  {
   "cell_type": "code",
   "execution_count": 272,
   "metadata": {},
   "outputs": [
    {
     "data": {
      "image/png": "[encoded data removed]",
      "text/plain": [
       "<Figure size 432x288 with 1 Axes>"
      ]
     },
     "metadata": {},
     "output_type": "display_data"
    }
   ],
   "source": [
    "finaldataframe.customer_id.groupby(finaldataframe.customer_duration).nunique().hist(bins=5);"
   ]
  },
  {
   "cell_type": "code",
   "execution_count": 273,
   "metadata": {},
   "outputs": [
    {
     "data": {
      "image/png": "[encoded data removed]",
      "text/plain": [
       "<Figure size 432x288 with 1 Axes>"
      ]
     },
     "metadata": {},
     "output_type": "display_data"
    }
   ],
   "source": [
    "finaldataframe.customer_id.groupby(finaldataframe.customer_recency).nunique().hist(bins=5);"
   ]
  },
  {
   "cell_type": "code",
   "execution_count": 291,
   "metadata": {},
   "outputs": [
    {
     "data": {
      "image/png": "[encoded data removed]",
      "text/plain": [
       "<Figure size 432x288 with 1 Axes>"
      ]
     },
     "metadata": {},
     "output_type": "display_data"
    }
   ],
   "source": [
    "finaldataframe.customer_id.groupby(finaldataframe.Customer_Value).nunique().hist(bins=5);"
   ]
  },
  {
   "cell_type": "code",
   "execution_count": 292,
   "metadata": {},
   "outputs": [
    {
     "data": {
      "image/png": "[encoded data removed]",
      "text/plain": [
       "<Figure size 432x288 with 1 Axes>"
      ]
     },
     "metadata": {},
     "output_type": "display_data"
    }
   ],
   "source": [
    "finaldataframe.customer_id.groupby(finaldataframe.Avg_DeliveryTime).nunique().hist(bins=5);"
   ]
  },
  {
   "cell_type": "code",
   "execution_count": 293,
   "metadata": {},
   "outputs": [
    {
     "data": {
      "image/png": "[encoded data removed]",
      "text/plain": [
       "<Figure size 432x288 with 1 Axes>"
      ]
     },
     "metadata": {},
     "output_type": "display_data"
    }
   ],
   "source": [
    "finaldataframe.customer_id.groupby(finaldataframe.Avg_DistanceFromResturant).nunique().hist(bins=5);"
   ]
  },
  {
   "cell_type": "markdown",
   "metadata": {},
   "source": [
    "# Clustering of the Users\n",
    "\n",
    "Optimal value of k has been found using __elbow method__ to determine optimal value of k"
   ]
  },
  {
   "cell_type": "code",
   "execution_count": 294,
   "metadata": {},
   "outputs": [
    {
     "name": "stdout",
     "output_type": "stream",
     "text": [
      "Columns Having None : ['#_of_Orders_in_last_4_weeks']\n"
     ]
    }
   ],
   "source": [
    "finaldataframe = input_data[['#_of_Orders','#_of_Orders_in_last_4_weeks','Avg_DistanceFromResturant','Avg_DeliveryTime','customer_duration','customer_recency','Customer_Value']]\n",
    "print \"Columns Having None :\",finaldataframe.columns[finaldataframe.isna().any()].tolist()\n",
    "finaldataframe=finaldataframe.fillna(0)"
   ]
  },
  {
   "cell_type": "code",
   "execution_count": null,
   "metadata": {},
   "outputs": [],
   "source": []
  },
  {
   "cell_type": "code",
   "execution_count": 295,
   "metadata": {},
   "outputs": [
    {
     "data": {
      "image/png": "[encoded data removed]",
      "text/plain": [
       "<Figure size 432x288 with 1 Axes>"
      ]
     },
     "metadata": {},
     "output_type": "display_data"
    }
   ],
   "source": [
    "data_x = finaldataframe.values\n",
    "distortions = []\n",
    "K = range(1,20)\n",
    "for k in K:\n",
    "    kmeanModel = KMeans(n_clusters=k).fit(data_x)\n",
    "    kmeanModel.fit(data_x)\n",
    "    distortions.append(sum(np.min(cdist(data_x, kmeanModel.cluster_centers_, 'euclidean'), axis=1)) / data_x.shape[0])\n",
    "\n",
    "plt.plot(K, distortions, 'bx-')\n",
    "plt.xlabel('k')\n",
    "plt.ylabel('Distortion')\n",
    "plt.title('Optimal k')\n",
    "plt.show()"
   ]
  },
  {
   "cell_type": "code",
   "execution_count": 296,
   "metadata": {},
   "outputs": [],
   "source": [
    "FINAL_K = 12\n",
    "kmeanModel = KMeans(n_clusters=FINAL_K).fit(data_x)"
   ]
  },
  {
   "cell_type": "code",
   "execution_count": 297,
   "metadata": {},
   "outputs": [],
   "source": [
    "customer_labels = kmeanModel.labels_"
   ]
  },
  {
   "cell_type": "code",
   "execution_count": 298,
   "metadata": {},
   "outputs": [],
   "source": [
    "finaldataframe = input_data[['customer_id','# of Orders','# of Orders in last 4 weeks','Avg_DistanceFromResturant','Avg_DeliveryTime','customer_duration','customer_recency','Avg_Ticket_Value','Customer_Value']]"
   ]
  },
  {
   "cell_type": "code",
   "execution_count": 299,
   "metadata": {},
   "outputs": [],
   "source": [
    "rows = finaldataframe.shape[0]"
   ]
  },
  {
   "cell_type": "code",
   "execution_count": 300,
   "metadata": {},
   "outputs": [
    {
     "name": "stderr",
     "output_type": "stream",
     "text": [
      "/home/ubuntu/anaconda2/lib/python2.7/site-packages/ipykernel/__main__.py:1: SettingWithCopyWarning: \n",
      "A value is trying to be set on a copy of a slice from a DataFrame.\n",
      "Try using .loc[row_indexer,col_indexer] = value instead\n",
      "\n",
      "See the caveats in the documentation: http://pandas.pydata.org/pandas-docs/stable/indexing.html#indexing-view-versus-copy\n",
      "  if __name__ == '__main__':\n"
     ]
    }
   ],
   "source": [
    "finaldataframe['cluster_id']=customer_labels"
   ]
  },
  {
   "cell_type": "code",
   "execution_count": 301,
   "metadata": {},
   "outputs": [
    {
     "data": {
      "text/html": [
       "<div>\n",
       "<style scoped>\n",
       "    .dataframe tbody tr th:only-of-type {\n",
       "        vertical-align: middle;\n",
       "    }\n",
       "\n",
       "    .dataframe tbody tr th {\n",
       "        vertical-align: top;\n",
       "    }\n",
       "\n",
       "    .dataframe thead th {\n",
       "        text-align: right;\n",
       "    }\n",
       "</style>\n",
       "<table border=\"1\" class=\"dataframe\">\n",
       "  <thead>\n",
       "    <tr style=\"text-align: right;\">\n",
       "      <th></th>\n",
       "      <th>cluster_id</th>\n",
       "      <th>percentages</th>\n",
       "    </tr>\n",
       "  </thead>\n",
       "  <tbody>\n",
       "    <tr>\n",
       "      <th>0</th>\n",
       "      <td>0</td>\n",
       "      <td>27.60</td>\n",
       "    </tr>\n",
       "    <tr>\n",
       "      <th>1</th>\n",
       "      <td>1</td>\n",
       "      <td>8.94</td>\n",
       "    </tr>\n",
       "    <tr>\n",
       "      <th>2</th>\n",
       "      <td>2</td>\n",
       "      <td>0.17</td>\n",
       "    </tr>\n",
       "    <tr>\n",
       "      <th>3</th>\n",
       "      <td>3</td>\n",
       "      <td>2.17</td>\n",
       "    </tr>\n",
       "    <tr>\n",
       "      <th>4</th>\n",
       "      <td>4</td>\n",
       "      <td>0.46</td>\n",
       "    </tr>\n",
       "    <tr>\n",
       "      <th>5</th>\n",
       "      <td>5</td>\n",
       "      <td>31.11</td>\n",
       "    </tr>\n",
       "    <tr>\n",
       "      <th>6</th>\n",
       "      <td>6</td>\n",
       "      <td>0.03</td>\n",
       "    </tr>\n",
       "    <tr>\n",
       "      <th>7</th>\n",
       "      <td>7</td>\n",
       "      <td>2.52</td>\n",
       "    </tr>\n",
       "    <tr>\n",
       "      <th>8</th>\n",
       "      <td>8</td>\n",
       "      <td>6.00</td>\n",
       "    </tr>\n",
       "    <tr>\n",
       "      <th>9</th>\n",
       "      <td>9</td>\n",
       "      <td>0.04</td>\n",
       "    </tr>\n",
       "    <tr>\n",
       "      <th>10</th>\n",
       "      <td>10</td>\n",
       "      <td>0.92</td>\n",
       "    </tr>\n",
       "    <tr>\n",
       "      <th>11</th>\n",
       "      <td>11</td>\n",
       "      <td>20.04</td>\n",
       "    </tr>\n",
       "  </tbody>\n",
       "</table>\n",
       "</div>"
      ],
      "text/plain": [
       "    cluster_id  percentages\n",
       "0            0        27.60\n",
       "1            1         8.94\n",
       "2            2         0.17\n",
       "3            3         2.17\n",
       "4            4         0.46\n",
       "5            5        31.11\n",
       "6            6         0.03\n",
       "7            7         2.52\n",
       "8            8         6.00\n",
       "9            9         0.04\n",
       "10          10         0.92\n",
       "11          11        20.04"
      ]
     },
     "metadata": {},
     "output_type": "display_data"
    }
   ],
   "source": [
    "j=finaldataframe.groupby(['cluster_id']).size()*100.0/finaldataframe.shape[0]\n",
    "j=j.reset_index()\n",
    "j['percentages']=j[0]\n",
    "j=j.drop([0], axis=1)\n",
    "display(j)"
   ]
  },
  {
   "cell_type": "code",
   "execution_count": 302,
   "metadata": {},
   "outputs": [],
   "source": [
    "finaldataframe=finaldataframe.fillna(0)\n",
    "finaldataframe['recency']=(finaldataframe.customer_recency.max()-finaldataframe['customer_recency'])*1.0/abs(finaldataframe.customer_recency.min()-finaldataframe.customer_recency.max())\n",
    "finaldataframe['duration']=(finaldataframe['customer_duration']-finaldataframe.customer_duration.min())*1.0/abs(finaldataframe.customer_duration.min()-finaldataframe.customer_duration.max())\n",
    "user_segmenst=finaldataframe.groupby(['cluster_id'])['# of Orders','# of Orders in last 4 weeks','Avg_DistanceFromResturant','Avg_DeliveryTime','duration','recency','Avg_Ticket_Value','Customer_Value'].agg(['size','mean','median'])"
   ]
  },
  {
   "cell_type": "markdown",
   "metadata": {},
   "source": [
    "### Results\n",
    "Based on the optimal value of k=12, derived 12 clusters from the given data. Bussines information can be retrived from the statistical values of the aatribute of the each cluster. Added Average Ticket Value with this stat to retrive bussines information easily though it's not been used in the clustering technique."
   ]
  },
  {
   "cell_type": "code",
   "execution_count": 305,
   "metadata": {},
   "outputs": [
    {
     "data": {
      "text/html": [
       "<div>\n",
       "<style scoped>\n",
       "    .dataframe tbody tr th:only-of-type {\n",
       "        vertical-align: middle;\n",
       "    }\n",
       "\n",
       "    .dataframe tbody tr th {\n",
       "        vertical-align: top;\n",
       "    }\n",
       "\n",
       "    .dataframe thead tr th {\n",
       "        text-align: left;\n",
       "    }\n",
       "</style>\n",
       "<table border=\"1\" class=\"dataframe\">\n",
       "  <thead>\n",
       "    <tr>\n",
       "      <th></th>\n",
       "      <th>cluster_id</th>\n",
       "      <th colspan=\"3\" halign=\"left\"># of Orders</th>\n",
       "      <th colspan=\"3\" halign=\"left\"># of Orders in last 4 weeks</th>\n",
       "      <th colspan=\"3\" halign=\"left\">Avg_DistanceFromResturant</th>\n",
       "      <th>...</th>\n",
       "      <th>duration</th>\n",
       "      <th colspan=\"3\" halign=\"left\">recency</th>\n",
       "      <th colspan=\"3\" halign=\"left\">Avg_Ticket_Value</th>\n",
       "      <th colspan=\"3\" halign=\"left\">Customer_Value</th>\n",
       "    </tr>\n",
       "    <tr>\n",
       "      <th></th>\n",
       "      <th></th>\n",
       "      <th>size</th>\n",
       "      <th>mean</th>\n",
       "      <th>median</th>\n",
       "      <th>size</th>\n",
       "      <th>mean</th>\n",
       "      <th>median</th>\n",
       "      <th>size</th>\n",
       "      <th>mean</th>\n",
       "      <th>median</th>\n",
       "      <th>...</th>\n",
       "      <th>median</th>\n",
       "      <th>size</th>\n",
       "      <th>mean</th>\n",
       "      <th>median</th>\n",
       "      <th>size</th>\n",
       "      <th>mean</th>\n",
       "      <th>median</th>\n",
       "      <th>size</th>\n",
       "      <th>mean</th>\n",
       "      <th>median</th>\n",
       "    </tr>\n",
       "  </thead>\n",
       "  <tbody>\n",
       "    <tr>\n",
       "      <th>0</th>\n",
       "      <td>0</td>\n",
       "      <td>2760</td>\n",
       "      <td>2.421014</td>\n",
       "      <td>1</td>\n",
       "      <td>2760</td>\n",
       "      <td>0.000000</td>\n",
       "      <td>0.0</td>\n",
       "      <td>2760</td>\n",
       "      <td>2.374275</td>\n",
       "      <td>2.4</td>\n",
       "      <td>...</td>\n",
       "      <td>0.722222</td>\n",
       "      <td>2760</td>\n",
       "      <td>0.332577</td>\n",
       "      <td>0.342466</td>\n",
       "      <td>2760</td>\n",
       "      <td>360.405155</td>\n",
       "      <td>281.000000</td>\n",
       "      <td>2760</td>\n",
       "      <td>0.000000</td>\n",
       "      <td>0.000</td>\n",
       "    </tr>\n",
       "    <tr>\n",
       "      <th>1</th>\n",
       "      <td>1</td>\n",
       "      <td>894</td>\n",
       "      <td>12.237136</td>\n",
       "      <td>6</td>\n",
       "      <td>894</td>\n",
       "      <td>3.371365</td>\n",
       "      <td>2.0</td>\n",
       "      <td>894</td>\n",
       "      <td>2.336242</td>\n",
       "      <td>2.3</td>\n",
       "      <td>...</td>\n",
       "      <td>0.564815</td>\n",
       "      <td>894</td>\n",
       "      <td>0.814869</td>\n",
       "      <td>0.817352</td>\n",
       "      <td>894</td>\n",
       "      <td>491.896689</td>\n",
       "      <td>448.464286</td>\n",
       "      <td>894</td>\n",
       "      <td>-224.405201</td>\n",
       "      <td>-210.125</td>\n",
       "    </tr>\n",
       "    <tr>\n",
       "      <th>2</th>\n",
       "      <td>2</td>\n",
       "      <td>17</td>\n",
       "      <td>20.941176</td>\n",
       "      <td>15</td>\n",
       "      <td>17</td>\n",
       "      <td>7.470588</td>\n",
       "      <td>3.0</td>\n",
       "      <td>17</td>\n",
       "      <td>2.605882</td>\n",
       "      <td>2.4</td>\n",
       "      <td>...</td>\n",
       "      <td>0.671296</td>\n",
       "      <td>17</td>\n",
       "      <td>0.843943</td>\n",
       "      <td>0.840183</td>\n",
       "      <td>17</td>\n",
       "      <td>1361.537628</td>\n",
       "      <td>827.428571</td>\n",
       "      <td>17</td>\n",
       "      <td>2371.426471</td>\n",
       "      <td>2305.250</td>\n",
       "    </tr>\n",
       "    <tr>\n",
       "      <th>3</th>\n",
       "      <td>3</td>\n",
       "      <td>217</td>\n",
       "      <td>15.087558</td>\n",
       "      <td>8</td>\n",
       "      <td>217</td>\n",
       "      <td>3.990783</td>\n",
       "      <td>3.0</td>\n",
       "      <td>217</td>\n",
       "      <td>2.388018</td>\n",
       "      <td>2.3</td>\n",
       "      <td>...</td>\n",
       "      <td>0.638889</td>\n",
       "      <td>217</td>\n",
       "      <td>0.861478</td>\n",
       "      <td>0.867580</td>\n",
       "      <td>217</td>\n",
       "      <td>547.605561</td>\n",
       "      <td>497.800000</td>\n",
       "      <td>217</td>\n",
       "      <td>612.490783</td>\n",
       "      <td>574.750</td>\n",
       "    </tr>\n",
       "    <tr>\n",
       "      <th>4</th>\n",
       "      <td>4</td>\n",
       "      <td>46</td>\n",
       "      <td>36.804348</td>\n",
       "      <td>25</td>\n",
       "      <td>46</td>\n",
       "      <td>9.934783</td>\n",
       "      <td>7.0</td>\n",
       "      <td>46</td>\n",
       "      <td>2.347826</td>\n",
       "      <td>2.3</td>\n",
       "      <td>...</td>\n",
       "      <td>0.733796</td>\n",
       "      <td>46</td>\n",
       "      <td>0.829561</td>\n",
       "      <td>0.817352</td>\n",
       "      <td>46</td>\n",
       "      <td>1022.674090</td>\n",
       "      <td>779.260593</td>\n",
       "      <td>46</td>\n",
       "      <td>-1387.016304</td>\n",
       "      <td>-1246.000</td>\n",
       "    </tr>\n",
       "    <tr>\n",
       "      <th>5</th>\n",
       "      <td>5</td>\n",
       "      <td>3111</td>\n",
       "      <td>2.320476</td>\n",
       "      <td>1</td>\n",
       "      <td>3111</td>\n",
       "      <td>0.652523</td>\n",
       "      <td>0.0</td>\n",
       "      <td>3111</td>\n",
       "      <td>2.355031</td>\n",
       "      <td>2.4</td>\n",
       "      <td>...</td>\n",
       "      <td>0.347222</td>\n",
       "      <td>3111</td>\n",
       "      <td>0.704403</td>\n",
       "      <td>0.707763</td>\n",
       "      <td>3111</td>\n",
       "      <td>316.697457</td>\n",
       "      <td>231.000000</td>\n",
       "      <td>3111</td>\n",
       "      <td>-11.572485</td>\n",
       "      <td>0.000</td>\n",
       "    </tr>\n",
       "    <tr>\n",
       "      <th>6</th>\n",
       "      <td>6</td>\n",
       "      <td>3</td>\n",
       "      <td>48.333333</td>\n",
       "      <td>33</td>\n",
       "      <td>3</td>\n",
       "      <td>10.666667</td>\n",
       "      <td>9.0</td>\n",
       "      <td>3</td>\n",
       "      <td>2.866667</td>\n",
       "      <td>2.5</td>\n",
       "      <td>...</td>\n",
       "      <td>0.870370</td>\n",
       "      <td>3</td>\n",
       "      <td>0.873668</td>\n",
       "      <td>0.867580</td>\n",
       "      <td>3</td>\n",
       "      <td>2109.159596</td>\n",
       "      <td>852.606061</td>\n",
       "      <td>3</td>\n",
       "      <td>5927.500000</td>\n",
       "      <td>6391.500</td>\n",
       "    </tr>\n",
       "    <tr>\n",
       "      <th>7</th>\n",
       "      <td>7</td>\n",
       "      <td>252</td>\n",
       "      <td>23.896825</td>\n",
       "      <td>15</td>\n",
       "      <td>252</td>\n",
       "      <td>6.297619</td>\n",
       "      <td>4.0</td>\n",
       "      <td>252</td>\n",
       "      <td>2.317857</td>\n",
       "      <td>2.3</td>\n",
       "      <td>...</td>\n",
       "      <td>0.717593</td>\n",
       "      <td>252</td>\n",
       "      <td>0.819943</td>\n",
       "      <td>0.826484</td>\n",
       "      <td>252</td>\n",
       "      <td>666.797693</td>\n",
       "      <td>559.675000</td>\n",
       "      <td>252</td>\n",
       "      <td>-616.960317</td>\n",
       "      <td>-577.375</td>\n",
       "    </tr>\n",
       "    <tr>\n",
       "      <th>8</th>\n",
       "      <td>8</td>\n",
       "      <td>600</td>\n",
       "      <td>10.825000</td>\n",
       "      <td>6</td>\n",
       "      <td>600</td>\n",
       "      <td>3.140000</td>\n",
       "      <td>2.0</td>\n",
       "      <td>600</td>\n",
       "      <td>2.306500</td>\n",
       "      <td>2.3</td>\n",
       "      <td>...</td>\n",
       "      <td>0.523148</td>\n",
       "      <td>600</td>\n",
       "      <td>0.860906</td>\n",
       "      <td>0.863014</td>\n",
       "      <td>600</td>\n",
       "      <td>338.279284</td>\n",
       "      <td>303.718623</td>\n",
       "      <td>600</td>\n",
       "      <td>248.562917</td>\n",
       "      <td>234.000</td>\n",
       "    </tr>\n",
       "    <tr>\n",
       "      <th>9</th>\n",
       "      <td>9</td>\n",
       "      <td>4</td>\n",
       "      <td>25.250000</td>\n",
       "      <td>20</td>\n",
       "      <td>4</td>\n",
       "      <td>10.250000</td>\n",
       "      <td>9.5</td>\n",
       "      <td>4</td>\n",
       "      <td>2.450000</td>\n",
       "      <td>2.1</td>\n",
       "      <td>...</td>\n",
       "      <td>0.400463</td>\n",
       "      <td>4</td>\n",
       "      <td>0.829909</td>\n",
       "      <td>0.805936</td>\n",
       "      <td>4</td>\n",
       "      <td>3341.809112</td>\n",
       "      <td>1292.164835</td>\n",
       "      <td>4</td>\n",
       "      <td>-3765.937500</td>\n",
       "      <td>-3672.375</td>\n",
       "    </tr>\n",
       "    <tr>\n",
       "      <th>10</th>\n",
       "      <td>10</td>\n",
       "      <td>92</td>\n",
       "      <td>17.434783</td>\n",
       "      <td>6</td>\n",
       "      <td>92</td>\n",
       "      <td>5.228261</td>\n",
       "      <td>3.0</td>\n",
       "      <td>92</td>\n",
       "      <td>2.439130</td>\n",
       "      <td>2.5</td>\n",
       "      <td>...</td>\n",
       "      <td>0.504630</td>\n",
       "      <td>92</td>\n",
       "      <td>0.858199</td>\n",
       "      <td>0.853881</td>\n",
       "      <td>92</td>\n",
       "      <td>742.273857</td>\n",
       "      <td>631.079474</td>\n",
       "      <td>92</td>\n",
       "      <td>1218.929348</td>\n",
       "      <td>1163.625</td>\n",
       "    </tr>\n",
       "    <tr>\n",
       "      <th>11</th>\n",
       "      <td>11</td>\n",
       "      <td>2004</td>\n",
       "      <td>12.740020</td>\n",
       "      <td>8</td>\n",
       "      <td>2004</td>\n",
       "      <td>1.677645</td>\n",
       "      <td>1.0</td>\n",
       "      <td>2004</td>\n",
       "      <td>2.351597</td>\n",
       "      <td>2.4</td>\n",
       "      <td>...</td>\n",
       "      <td>0.787037</td>\n",
       "      <td>2004</td>\n",
       "      <td>0.743046</td>\n",
       "      <td>0.753425</td>\n",
       "      <td>2004</td>\n",
       "      <td>265.635306</td>\n",
       "      <td>211.660920</td>\n",
       "      <td>2004</td>\n",
       "      <td>-12.514346</td>\n",
       "      <td>0.000</td>\n",
       "    </tr>\n",
       "  </tbody>\n",
       "</table>\n",
       "<p>12 rows × 25 columns</p>\n",
       "</div>"
      ],
      "text/plain": [
       "   cluster_id # of Orders                   # of Orders in last 4 weeks  \\\n",
       "                     size       mean median                        size   \n",
       "0           0        2760   2.421014      1                        2760   \n",
       "1           1         894  12.237136      6                         894   \n",
       "2           2          17  20.941176     15                          17   \n",
       "3           3         217  15.087558      8                         217   \n",
       "4           4          46  36.804348     25                          46   \n",
       "5           5        3111   2.320476      1                        3111   \n",
       "6           6           3  48.333333     33                           3   \n",
       "7           7         252  23.896825     15                         252   \n",
       "8           8         600  10.825000      6                         600   \n",
       "9           9           4  25.250000     20                           4   \n",
       "10         10          92  17.434783      6                          92   \n",
       "11         11        2004  12.740020      8                        2004   \n",
       "\n",
       "                     Avg_DistanceFromResturant                     ...     \\\n",
       "         mean median                      size      mean median    ...      \n",
       "0    0.000000    0.0                      2760  2.374275    2.4    ...      \n",
       "1    3.371365    2.0                       894  2.336242    2.3    ...      \n",
       "2    7.470588    3.0                        17  2.605882    2.4    ...      \n",
       "3    3.990783    3.0                       217  2.388018    2.3    ...      \n",
       "4    9.934783    7.0                        46  2.347826    2.3    ...      \n",
       "5    0.652523    0.0                      3111  2.355031    2.4    ...      \n",
       "6   10.666667    9.0                         3  2.866667    2.5    ...      \n",
       "7    6.297619    4.0                       252  2.317857    2.3    ...      \n",
       "8    3.140000    2.0                       600  2.306500    2.3    ...      \n",
       "9   10.250000    9.5                         4  2.450000    2.1    ...      \n",
       "10   5.228261    3.0                        92  2.439130    2.5    ...      \n",
       "11   1.677645    1.0                      2004  2.351597    2.4    ...      \n",
       "\n",
       "    duration recency                     Avg_Ticket_Value               \\\n",
       "      median    size      mean    median             size         mean   \n",
       "0   0.722222    2760  0.332577  0.342466             2760   360.405155   \n",
       "1   0.564815     894  0.814869  0.817352              894   491.896689   \n",
       "2   0.671296      17  0.843943  0.840183               17  1361.537628   \n",
       "3   0.638889     217  0.861478  0.867580              217   547.605561   \n",
       "4   0.733796      46  0.829561  0.817352               46  1022.674090   \n",
       "5   0.347222    3111  0.704403  0.707763             3111   316.697457   \n",
       "6   0.870370       3  0.873668  0.867580                3  2109.159596   \n",
       "7   0.717593     252  0.819943  0.826484              252   666.797693   \n",
       "8   0.523148     600  0.860906  0.863014              600   338.279284   \n",
       "9   0.400463       4  0.829909  0.805936                4  3341.809112   \n",
       "10  0.504630      92  0.858199  0.853881               92   742.273857   \n",
       "11  0.787037    2004  0.743046  0.753425             2004   265.635306   \n",
       "\n",
       "                Customer_Value                         \n",
       "         median           size         mean    median  \n",
       "0    281.000000           2760     0.000000     0.000  \n",
       "1    448.464286            894  -224.405201  -210.125  \n",
       "2    827.428571             17  2371.426471  2305.250  \n",
       "3    497.800000            217   612.490783   574.750  \n",
       "4    779.260593             46 -1387.016304 -1246.000  \n",
       "5    231.000000           3111   -11.572485     0.000  \n",
       "6    852.606061              3  5927.500000  6391.500  \n",
       "7    559.675000            252  -616.960317  -577.375  \n",
       "8    303.718623            600   248.562917   234.000  \n",
       "9   1292.164835              4 -3765.937500 -3672.375  \n",
       "10   631.079474             92  1218.929348  1163.625  \n",
       "11   211.660920           2004   -12.514346     0.000  \n",
       "\n",
       "[12 rows x 25 columns]"
      ]
     },
     "metadata": {},
     "output_type": "display_data"
    }
   ],
   "source": [
    "display(user_segmenst.reset_index())"
   ]
  },
  {
   "cell_type": "markdown",
   "metadata": {},
   "source": [
    "# Seven days spend Prediction\n",
    "Last Seven Days Spend Prediction has been performed in this part.\n",
    "Similar Attribute Cleaning and Generation has been performend."
   ]
  },
  {
   "cell_type": "code",
   "execution_count": 308,
   "metadata": {},
   "outputs": [
    {
     "name": "stdout",
     "output_type": "stream",
     "text": [
      "('Number of rows: ', 10000)\n"
     ]
    },
    {
     "data": {
      "text/html": [
       "<div>\n",
       "<style scoped>\n",
       "    .dataframe tbody tr th:only-of-type {\n",
       "        vertical-align: middle;\n",
       "    }\n",
       "\n",
       "    .dataframe tbody tr th {\n",
       "        vertical-align: top;\n",
       "    }\n",
       "\n",
       "    .dataframe thead th {\n",
       "        text-align: right;\n",
       "    }\n",
       "</style>\n",
       "<table border=\"1\" class=\"dataframe\">\n",
       "  <thead>\n",
       "    <tr style=\"text-align: right;\">\n",
       "      <th></th>\n",
       "      <th>customer_id</th>\n",
       "      <th># of Orders</th>\n",
       "      <th># of Orders in last 7 days</th>\n",
       "      <th># of Orders in last 4 weeks</th>\n",
       "      <th>Amount</th>\n",
       "      <th>Amount in last 7 days</th>\n",
       "      <th>Amount in last 4 weeks</th>\n",
       "      <th>Avg_DistanceFromResturant</th>\n",
       "      <th>Avg_DeliveryTime</th>\n",
       "    </tr>\n",
       "  </thead>\n",
       "  <tbody>\n",
       "    <tr>\n",
       "      <th>Count of values</th>\n",
       "      <td>10000.0</td>\n",
       "      <td>10000.0</td>\n",
       "      <td>1923.0</td>\n",
       "      <td>4341.0</td>\n",
       "      <td>10000.0</td>\n",
       "      <td>10000.0</td>\n",
       "      <td>10000.0</td>\n",
       "      <td>10000.0</td>\n",
       "      <td>10000.0</td>\n",
       "    </tr>\n",
       "  </tbody>\n",
       "</table>\n",
       "</div>"
      ],
      "text/plain": [
       "                 customer_id  # of Orders  # of Orders in last 7 days  \\\n",
       "Count of values      10000.0      10000.0                      1923.0   \n",
       "\n",
       "                 # of Orders in last 4 weeks   Amount  Amount in last 7 days  \\\n",
       "Count of values                       4341.0  10000.0                10000.0   \n",
       "\n",
       "                 Amount in last 4 weeks  Avg_DistanceFromResturant  \\\n",
       "Count of values                 10000.0                    10000.0   \n",
       "\n",
       "                 Avg_DeliveryTime  \n",
       "Count of values           10000.0  "
      ]
     },
     "metadata": {},
     "output_type": "display_data"
    }
   ],
   "source": [
    "print(\"Number of rows: \",input_data.shape[0])\n",
    "counts = input_data.describe().iloc[0]\n",
    "display(\n",
    "    pd.DataFrame(\n",
    "        counts.tolist(), \n",
    "        columns=[\"Count of values\"], \n",
    "        index=counts.index.values\n",
    "    ).transpose()\n",
    ")\n",
    "\n",
    "input_data['First Time']=pd.to_datetime(input_data['First Time'], infer_datetime_format=True)\n",
    "input_data['Recent Time']=pd.to_datetime(input_data['Recent Time'], infer_datetime_format=True)\n",
    "input_data['customer_duration'] = input_data.apply(lambda x: (datetime.date.today()-x['First Time'].date()).days, axis=1)\n",
    "input_data['customer_recency'] = input_data.apply(lambda x: (datetime.date.today()-x['Recent Time'].date()).days, axis=1)\n",
    "input_data['Avg_Ticket_Value'] = input_data['Amount']*1.0/input_data['# of Orders']\n",
    "input_data['Avg_Week_Value'] = (input_data['Amount in last 4 weeks']*1.0)/4"
   ]
  },
  {
   "cell_type": "code",
   "execution_count": 316,
   "metadata": {},
   "outputs": [],
   "source": [
    "Input_relevent_data = input_data[['customer_id','# of Orders','# of Orders in last 7 days','# of Orders in last 4 weeks','Amount','Amount in last 7 days','Amount in last 4 weeks','Avg_DistanceFromResturant','Avg_DeliveryTime','customer_duration','customer_recency','Avg_Ticket_Value','Avg_Week_Value']]"
   ]
  },
  {
   "cell_type": "code",
   "execution_count": 317,
   "metadata": {},
   "outputs": [
    {
     "data": {
      "text/plain": [
       "(10000, 13)"
      ]
     },
     "execution_count": 317,
     "metadata": {},
     "output_type": "execute_result"
    }
   ],
   "source": [
    "Input_relevent_data.shape"
   ]
  },
  {
   "cell_type": "markdown",
   "metadata": {},
   "source": [
    "# Data inspection\n",
    "##### This step is to check that what is the percentage of data contains NA, AS '# of Orders in last 7 days' contains 80% NA and that is correlated with Y value\n",
    "##### populated 0 in those places, to make those data usable"
   ]
  },
  {
   "cell_type": "code",
   "execution_count": 318,
   "metadata": {},
   "outputs": [
    {
     "data": {
      "text/plain": [
       "customer_id                       0\n",
       "# of Orders                       0\n",
       "# of Orders in last 7 days     8077\n",
       "# of Orders in last 4 weeks    5659\n",
       "Amount                            0\n",
       "Amount in last 7 days             0\n",
       "Amount in last 4 weeks            0\n",
       "Avg_DistanceFromResturant         0\n",
       "Avg_DeliveryTime                  0\n",
       "customer_duration                 0\n",
       "customer_recency                  0\n",
       "Avg_Ticket_Value                  0\n",
       "Avg_Week_Value                    0\n",
       "dtype: int64"
      ]
     },
     "execution_count": 318,
     "metadata": {},
     "output_type": "execute_result"
    }
   ],
   "source": [
    "Input_relevent_data.isna().sum()"
   ]
  },
  {
   "cell_type": "code",
   "execution_count": 324,
   "metadata": {},
   "outputs": [],
   "source": [
    "Input_relevent_data=Input_relevent_data.fillna(0)"
   ]
  },
  {
   "cell_type": "markdown",
   "metadata": {},
   "source": [
    "##### Relevent Data description has been given in this space"
   ]
  },
  {
   "cell_type": "code",
   "execution_count": 325,
   "metadata": {},
   "outputs": [
    {
     "data": {
      "text/html": [
       "<div>\n",
       "<style scoped>\n",
       "    .dataframe tbody tr th:only-of-type {\n",
       "        vertical-align: middle;\n",
       "    }\n",
       "\n",
       "    .dataframe tbody tr th {\n",
       "        vertical-align: top;\n",
       "    }\n",
       "\n",
       "    .dataframe thead th {\n",
       "        text-align: right;\n",
       "    }\n",
       "</style>\n",
       "<table border=\"1\" class=\"dataframe\">\n",
       "  <thead>\n",
       "    <tr style=\"text-align: right;\">\n",
       "      <th></th>\n",
       "      <th>customer_id</th>\n",
       "      <th># of Orders</th>\n",
       "      <th># of Orders in last 7 days</th>\n",
       "      <th># of Orders in last 4 weeks</th>\n",
       "      <th>Amount</th>\n",
       "      <th>Amount in last 7 days</th>\n",
       "      <th>Amount in last 4 weeks</th>\n",
       "      <th>Avg_DistanceFromResturant</th>\n",
       "      <th>Avg_DeliveryTime</th>\n",
       "      <th>customer_duration</th>\n",
       "      <th>customer_recency</th>\n",
       "      <th>Avg_Ticket_Value</th>\n",
       "      <th>Avg_Week_Value</th>\n",
       "    </tr>\n",
       "  </thead>\n",
       "  <tbody>\n",
       "    <tr>\n",
       "      <th>count</th>\n",
       "      <td>1.000000e+04</td>\n",
       "      <td>10000.000000</td>\n",
       "      <td>10000.000000</td>\n",
       "      <td>10000.000000</td>\n",
       "      <td>10000.000000</td>\n",
       "      <td>10000.000000</td>\n",
       "      <td>10000.000000</td>\n",
       "      <td>10000.00000</td>\n",
       "      <td>10000.000000</td>\n",
       "      <td>10000.000000</td>\n",
       "      <td>10000.000000</td>\n",
       "      <td>10000.000000</td>\n",
       "      <td>10000.000000</td>\n",
       "    </tr>\n",
       "    <tr>\n",
       "      <th>mean</th>\n",
       "      <td>6.714023e+05</td>\n",
       "      <td>7.006200</td>\n",
       "      <td>0.333600</td>\n",
       "      <td>1.388100</td>\n",
       "      <td>2253.273600</td>\n",
       "      <td>109.497500</td>\n",
       "      <td>455.491200</td>\n",
       "      <td>2.35620</td>\n",
       "      <td>36.914300</td>\n",
       "      <td>1124.586700</td>\n",
       "      <td>1074.401100</td>\n",
       "      <td>360.005686</td>\n",
       "      <td>113.872800</td>\n",
       "    </tr>\n",
       "    <tr>\n",
       "      <th>std</th>\n",
       "      <td>3.901880e+05</td>\n",
       "      <td>13.118619</td>\n",
       "      <td>0.910052</td>\n",
       "      <td>3.041842</td>\n",
       "      <td>5136.484499</td>\n",
       "      <td>397.055277</td>\n",
       "      <td>1237.872749</td>\n",
       "      <td>0.97492</td>\n",
       "      <td>13.175413</td>\n",
       "      <td>52.364999</td>\n",
       "      <td>48.544543</td>\n",
       "      <td>373.105550</td>\n",
       "      <td>309.468187</td>\n",
       "    </tr>\n",
       "    <tr>\n",
       "      <th>min</th>\n",
       "      <td>2.800000e+01</td>\n",
       "      <td>1.000000</td>\n",
       "      <td>0.000000</td>\n",
       "      <td>0.000000</td>\n",
       "      <td>1.000000</td>\n",
       "      <td>0.000000</td>\n",
       "      <td>0.000000</td>\n",
       "      <td>-0.80000</td>\n",
       "      <td>15.000000</td>\n",
       "      <td>1001.000000</td>\n",
       "      <td>995.000000</td>\n",
       "      <td>0.083333</td>\n",
       "      <td>0.000000</td>\n",
       "    </tr>\n",
       "    <tr>\n",
       "      <th>25%</th>\n",
       "      <td>3.365148e+05</td>\n",
       "      <td>1.000000</td>\n",
       "      <td>0.000000</td>\n",
       "      <td>0.000000</td>\n",
       "      <td>279.000000</td>\n",
       "      <td>0.000000</td>\n",
       "      <td>0.000000</td>\n",
       "      <td>1.70000</td>\n",
       "      <td>26.000000</td>\n",
       "      <td>1081.000000</td>\n",
       "      <td>1035.000000</td>\n",
       "      <td>138.522059</td>\n",
       "      <td>0.000000</td>\n",
       "    </tr>\n",
       "    <tr>\n",
       "      <th>50%</th>\n",
       "      <td>6.683395e+05</td>\n",
       "      <td>2.000000</td>\n",
       "      <td>0.000000</td>\n",
       "      <td>0.000000</td>\n",
       "      <td>688.000000</td>\n",
       "      <td>0.000000</td>\n",
       "      <td>0.000000</td>\n",
       "      <td>2.40000</td>\n",
       "      <td>36.500000</td>\n",
       "      <td>1133.000000</td>\n",
       "      <td>1061.000000</td>\n",
       "      <td>281.000000</td>\n",
       "      <td>0.000000</td>\n",
       "    </tr>\n",
       "    <tr>\n",
       "      <th>75%</th>\n",
       "      <td>1.005002e+06</td>\n",
       "      <td>7.000000</td>\n",
       "      <td>0.000000</td>\n",
       "      <td>1.000000</td>\n",
       "      <td>2040.000000</td>\n",
       "      <td>0.000000</td>\n",
       "      <td>398.000000</td>\n",
       "      <td>3.02500</td>\n",
       "      <td>47.000000</td>\n",
       "      <td>1171.000000</td>\n",
       "      <td>1107.000000</td>\n",
       "      <td>478.465909</td>\n",
       "      <td>99.500000</td>\n",
       "    </tr>\n",
       "    <tr>\n",
       "      <th>max</th>\n",
       "      <td>1.355445e+06</td>\n",
       "      <td>212.000000</td>\n",
       "      <td>14.000000</td>\n",
       "      <td>46.000000</td>\n",
       "      <td>138808.000000</td>\n",
       "      <td>10150.000000</td>\n",
       "      <td>26853.000000</td>\n",
       "      <td>5.90000</td>\n",
       "      <td>83.000000</td>\n",
       "      <td>1217.000000</td>\n",
       "      <td>1214.000000</td>\n",
       "      <td>9906.500000</td>\n",
       "      <td>6713.250000</td>\n",
       "    </tr>\n",
       "  </tbody>\n",
       "</table>\n",
       "</div>"
      ],
      "text/plain": [
       "        customer_id   # of Orders  # of Orders in last 7 days  \\\n",
       "count  1.000000e+04  10000.000000                10000.000000   \n",
       "mean   6.714023e+05      7.006200                    0.333600   \n",
       "std    3.901880e+05     13.118619                    0.910052   \n",
       "min    2.800000e+01      1.000000                    0.000000   \n",
       "25%    3.365148e+05      1.000000                    0.000000   \n",
       "50%    6.683395e+05      2.000000                    0.000000   \n",
       "75%    1.005002e+06      7.000000                    0.000000   \n",
       "max    1.355445e+06    212.000000                   14.000000   \n",
       "\n",
       "       # of Orders in last 4 weeks         Amount  Amount in last 7 days  \\\n",
       "count                 10000.000000   10000.000000           10000.000000   \n",
       "mean                      1.388100    2253.273600             109.497500   \n",
       "std                       3.041842    5136.484499             397.055277   \n",
       "min                       0.000000       1.000000               0.000000   \n",
       "25%                       0.000000     279.000000               0.000000   \n",
       "50%                       0.000000     688.000000               0.000000   \n",
       "75%                       1.000000    2040.000000               0.000000   \n",
       "max                      46.000000  138808.000000           10150.000000   \n",
       "\n",
       "       Amount in last 4 weeks  Avg_DistanceFromResturant  Avg_DeliveryTime  \\\n",
       "count            10000.000000                10000.00000      10000.000000   \n",
       "mean               455.491200                    2.35620         36.914300   \n",
       "std               1237.872749                    0.97492         13.175413   \n",
       "min                  0.000000                   -0.80000         15.000000   \n",
       "25%                  0.000000                    1.70000         26.000000   \n",
       "50%                  0.000000                    2.40000         36.500000   \n",
       "75%                398.000000                    3.02500         47.000000   \n",
       "max              26853.000000                    5.90000         83.000000   \n",
       "\n",
       "       customer_duration  customer_recency  Avg_Ticket_Value  Avg_Week_Value  \n",
       "count       10000.000000      10000.000000      10000.000000    10000.000000  \n",
       "mean         1124.586700       1074.401100        360.005686      113.872800  \n",
       "std            52.364999         48.544543        373.105550      309.468187  \n",
       "min          1001.000000        995.000000          0.083333        0.000000  \n",
       "25%          1081.000000       1035.000000        138.522059        0.000000  \n",
       "50%          1133.000000       1061.000000        281.000000        0.000000  \n",
       "75%          1171.000000       1107.000000        478.465909       99.500000  \n",
       "max          1217.000000       1214.000000       9906.500000     6713.250000  "
      ]
     },
     "execution_count": 325,
     "metadata": {},
     "output_type": "execute_result"
    }
   ],
   "source": [
    "Input_relevent_data.describe()"
   ]
  },
  {
   "cell_type": "markdown",
   "metadata": {},
   "source": [
    "###### Data Extraction\n",
    "Data Extraction has been done for attribute analysis for the experiment"
   ]
  },
  {
   "cell_type": "code",
   "execution_count": 328,
   "metadata": {},
   "outputs": [],
   "source": [
    "Target_Y = Input_relevent_data['Amount in last 7 days']\n",
    "Target_X = Input_relevent_data.drop(['Amount in last 7 days','customer_id'], axis=1)"
   ]
  },
  {
   "cell_type": "markdown",
   "metadata": {},
   "source": [
    "# Feature Selection\n",
    "Based on __svd__ results we will select "
   ]
  },
  {
   "cell_type": "code",
   "execution_count": 343,
   "metadata": {},
   "outputs": [
    {
     "data": {
      "text/plain": [
       "'get the dimensions coeff'"
      ]
     },
     "metadata": {},
     "output_type": "display_data"
    },
    {
     "data": {
      "text/plain": [
       "'+0.002*# of Orders +0.000*# of Orders in last 7 days +0.000*# of Orders in last 4 weeks +0.976*Amount +0.176*Amount in last 4 weeks +0.000*Avg_DistanceFromResturant +0.003*Avg_DeliveryTime +0.087*customer_duration +0.079*customer_recency +0.041*Avg_Ticket_Value +0.044*Avg_Week_Value'"
      ]
     },
     "metadata": {},
     "output_type": "display_data"
    }
   ],
   "source": [
    "from sklearn.decomposition import TruncatedSVD\n",
    "dataframe = Target_X\n",
    "svd = TruncatedSVD(n_components=9, n_iter=15, random_state=42)\n",
    "dataframe=dataframe.dropna()\n",
    "svd.fit(dataframe.values.tolist()) \n",
    "#print(svd.explained_variance_ratio_)\n",
    "var_ratios=svd.explained_variance_ratio_\n",
    "#print(svd.singular_values_)\n",
    "display(\"get the dimensions coeff\" )\n",
    "display( \n",
    "\" \".join([\n",
    "    \"%+0.3f*%s\" % (coef, feat) \n",
    "    for coef, feat in zip(svd.components_[0], dataframe.columns)\n",
    "]))\n",
    "\n",
    "\n",
    "\n"
   ]
  },
  {
   "cell_type": "markdown",
   "metadata": {},
   "source": [
    "#### Experiment With Linear Regression"
   ]
  },
  {
   "cell_type": "code",
   "execution_count": 345,
   "metadata": {},
   "outputs": [
    {
     "name": "stdout",
     "output_type": "stream",
     "text": [
      "0.6473710258221992\n"
     ]
    }
   ],
   "source": [
    "from sklearn.linear_model import LinearRegression\n",
    "from sklearn.feature_selection import VarianceThreshold\n",
    "from sklearn.model_selection import train_test_split\n",
    "\n",
    "Target_X = Input_relevent_data.drop(['# of Orders','Amount in last 7 days','customer_id','# of Orders in last 4 weeks','Avg_DistanceFromResturant','Avg_DeliveryTime'], axis=1)\n",
    "Target_Y = Input_relevent_data['Amount in last 7 days']\n",
    "\n",
    "x_train , x_test , y_train , y_test = train_test_split(Target_X , Target_Y , test_size = 0.10,random_state =2)\n",
    "reg.fit(x_train,y_train)\n",
    "print reg.score(x_test,y_test)"
   ]
  },
  {
   "cell_type": "markdown",
   "metadata": {},
   "source": [
    "#### Experiment With Gradient Boosting Regression"
   ]
  },
  {
   "cell_type": "code",
   "execution_count": 361,
   "metadata": {},
   "outputs": [
    {
     "name": "stdout",
     "output_type": "stream",
     "text": [
      "0.7725263774042093\n"
     ]
    }
   ],
   "source": [
    "from sklearn import ensemble\n",
    "clf = ensemble.GradientBoostingRegressor(n_estimators = 400, max_depth = 5, min_samples_split = 2,\n",
    "          learning_rate = 0.1, loss = 'ls')\n",
    "clf.fit(x_train, y_train)\n",
    "print clf.score(x_test,y_test)\n",
    "y_pred = clf.predict(x_test)"
   ]
  },
  {
   "cell_type": "markdown",
   "metadata": {},
   "source": [
    "## Result\n",
    "#### Comparing R2 value  and mean sq error for performance analysis"
   ]
  },
  {
   "cell_type": "code",
   "execution_count": 374,
   "metadata": {},
   "outputs": [
    {
     "name": "stdout",
     "output_type": "stream",
     "text": [
      "r2 value from Gradient Boosting  0.7725263774042093\n",
      "r2 value from Linear Regression  0.6473710258221992\n"
     ]
    },
    {
     "data": {
      "text/plain": [
       "'MSE value from Gradient Boosting'"
      ]
     },
     "metadata": {},
     "output_type": "display_data"
    },
    {
     "data": {
      "text/plain": [
       "33376.296404770495"
      ]
     },
     "metadata": {},
     "output_type": "display_data"
    },
    {
     "data": {
      "text/plain": [
       "'MSE value from Linear Regression'"
      ]
     },
     "metadata": {},
     "output_type": "display_data"
    },
    {
     "data": {
      "text/plain": [
       "51739.8414319983"
      ]
     },
     "metadata": {},
     "output_type": "display_data"
    }
   ],
   "source": [
    "from sklearn.metrics import r2_score\n",
    "print 'r2 value from Gradient Boosting ',r2_score(y_test,y_pred)\n",
    "y_pred2 = reg.predict(x_test)\n",
    "print 'r2 value from Linear Regression ',r2_score(y_test,y_pred2)\n",
    "from sklearn.metrics import mean_squared_error\n",
    "display('MSE value from Gradient Boosting',mean_squared_error(y_test, y_pred))\n",
    "display('MSE value from Linear Regression', mean_squared_error(y_test, y_pred2))"
   ]
  },
  {
   "cell_type": "code",
   "execution_count": null,
   "metadata": {},
   "outputs": [],
   "source": []
  },
  {
   "cell_type": "code",
   "execution_count": null,
   "metadata": {},
   "outputs": [],
   "source": []
  },
  {
   "cell_type": "code",
   "execution_count": null,
   "metadata": {},
   "outputs": [],
   "source": []
  }
 ],
 "metadata": {
  "kernelspec": {
   "display_name": "Python [conda env:anaconda2]",
   "language": "python",
   "name": "conda-env-anaconda2-py"
  },
  "language_info": {
   "codemirror_mode": {
    "name": "ipython",
    "version": 2
   },
   "file_extension": ".py",
   "mimetype": "text/x-python",
   "name": "python",
   "nbconvert_exporter": "python",
   "pygments_lexer": "ipython2",
   "version": "2.7.15"
  }
 },
 "nbformat": 4,
 "nbformat_minor": 2
}
