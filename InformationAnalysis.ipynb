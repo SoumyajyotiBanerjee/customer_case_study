{
 "cells": [
  {
   "cell_type": "markdown",
   "metadata": {},
   "source": [
    "# Initial setup\n",
    "\n",
    "Importing all required libraries and loading the data"
   ]
  },
  {
   "cell_type": "code",
   "execution_count": 189,
   "metadata": {},
   "outputs": [
    {
     "data": {
      "text/html": [
       "<div>\n",
       "<style scoped>\n",
       "    .dataframe tbody tr th:only-of-type {\n",
       "        vertical-align: middle;\n",
       "    }\n",
       "\n",
       "    .dataframe tbody tr th {\n",
       "        vertical-align: top;\n",
       "    }\n",
       "\n",
       "    .dataframe thead th {\n",
       "        text-align: right;\n",
       "    }\n",
       "</style>\n",
       "<table border=\"1\" class=\"dataframe\">\n",
       "  <thead>\n",
       "    <tr style=\"text-align: right;\">\n",
       "      <th></th>\n",
       "      <th>customer_id</th>\n",
       "      <th>First Time</th>\n",
       "      <th>Recent Time</th>\n",
       "      <th># of Orders</th>\n",
       "      <th># of Orders in last 7 days</th>\n",
       "      <th># of Orders in last 4 weeks</th>\n",
       "      <th>Amount</th>\n",
       "      <th>Amount in last 7 days</th>\n",
       "      <th>Amount in last 4 weeks</th>\n",
       "      <th>Avg_DistanceFromResturant</th>\n",
       "      <th>Avg_DeliveryTime</th>\n",
       "    </tr>\n",
       "  </thead>\n",
       "  <tbody>\n",
       "    <tr>\n",
       "      <th>0</th>\n",
       "      <td>1269647</td>\n",
       "      <td>6/29/15 10:57</td>\n",
       "      <td>12/10/15 2:18</td>\n",
       "      <td>212</td>\n",
       "      <td>6.0</td>\n",
       "      <td>43.0</td>\n",
       "      <td>138808</td>\n",
       "      <td>4291</td>\n",
       "      <td>26853</td>\n",
       "      <td>1.6</td>\n",
       "      <td>51</td>\n",
       "    </tr>\n",
       "    <tr>\n",
       "      <th>1</th>\n",
       "      <td>167631</td>\n",
       "      <td>7/4/15 15:39</td>\n",
       "      <td>12/15/15 14:42</td>\n",
       "      <td>211</td>\n",
       "      <td>8.0</td>\n",
       "      <td>19.0</td>\n",
       "      <td>56404</td>\n",
       "      <td>1925</td>\n",
       "      <td>4177</td>\n",
       "      <td>2.2</td>\n",
       "      <td>42</td>\n",
       "    </tr>\n",
       "    <tr>\n",
       "      <th>2</th>\n",
       "      <td>301524</td>\n",
       "      <td>6/26/15 9:56</td>\n",
       "      <td>12/9/15 20:45</td>\n",
       "      <td>189</td>\n",
       "      <td>9.0</td>\n",
       "      <td>33.0</td>\n",
       "      <td>36020</td>\n",
       "      <td>1772</td>\n",
       "      <td>6404</td>\n",
       "      <td>2.5</td>\n",
       "      <td>57</td>\n",
       "    </tr>\n",
       "    <tr>\n",
       "      <th>3</th>\n",
       "      <td>1268254</td>\n",
       "      <td>7/1/15 1:51</td>\n",
       "      <td>12/14/15 1:43</td>\n",
       "      <td>184</td>\n",
       "      <td>6.0</td>\n",
       "      <td>37.0</td>\n",
       "      <td>32489</td>\n",
       "      <td>975</td>\n",
       "      <td>7110</td>\n",
       "      <td>3.1</td>\n",
       "      <td>55</td>\n",
       "    </tr>\n",
       "    <tr>\n",
       "      <th>4</th>\n",
       "      <td>357161</td>\n",
       "      <td>7/11/15 18:34</td>\n",
       "      <td>12/19/15 23:26</td>\n",
       "      <td>182</td>\n",
       "      <td>4.0</td>\n",
       "      <td>23.0</td>\n",
       "      <td>85150</td>\n",
       "      <td>1738</td>\n",
       "      <td>9958</td>\n",
       "      <td>2.4</td>\n",
       "      <td>36</td>\n",
       "    </tr>\n",
       "  </tbody>\n",
       "</table>\n",
       "</div>"
      ],
      "text/plain": [
       "   customer_id     First Time     Recent Time  # of Orders  \\\n",
       "0      1269647  6/29/15 10:57   12/10/15 2:18          212   \n",
       "1       167631   7/4/15 15:39  12/15/15 14:42          211   \n",
       "2       301524   6/26/15 9:56   12/9/15 20:45          189   \n",
       "3      1268254    7/1/15 1:51   12/14/15 1:43          184   \n",
       "4       357161  7/11/15 18:34  12/19/15 23:26          182   \n",
       "\n",
       "   # of Orders in last 7 days  # of Orders in last 4 weeks  Amount  \\\n",
       "0                         6.0                         43.0  138808   \n",
       "1                         8.0                         19.0   56404   \n",
       "2                         9.0                         33.0   36020   \n",
       "3                         6.0                         37.0   32489   \n",
       "4                         4.0                         23.0   85150   \n",
       "\n",
       "   Amount in last 7 days  Amount in last 4 weeks  Avg_DistanceFromResturant  \\\n",
       "0                   4291                   26853                        1.6   \n",
       "1                   1925                    4177                        2.2   \n",
       "2                   1772                    6404                        2.5   \n",
       "3                    975                    7110                        3.1   \n",
       "4                   1738                    9958                        2.4   \n",
       "\n",
       "   Avg_DeliveryTime  \n",
       "0                51  \n",
       "1                42  \n",
       "2                57  \n",
       "3                55  \n",
       "4                36  "
      ]
     },
     "metadata": {},
     "output_type": "display_data"
    }
   ],
   "source": [
    "# Import Modules\n",
    "import pandas as pd \n",
    "import numpy as np\n",
    "from sklearn.model_selection import train_test_split\n",
    "from sklearn.ensemble import RandomForestClassifier\n",
    "from sklearn.metrics import confusion_matrix\n",
    "from sklearn.metrics import roc_curve\n",
    "import matplotlib\n",
    "import matplotlib.pyplot as plt\n",
    "from IPython.display import display, HTML\n",
    "import csv\n",
    "from sklearn.feature_selection import VarianceThreshold\n",
    "from sklearn.cluster import KMeans\n",
    "from sklearn import metrics\n",
    "from scipy.spatial.distance import cdist\n",
    "import numpy as np\n",
    "import matplotlib.pyplot as plt\n",
    "from datetime import datetime as dt\n",
    "import datetime\n",
    "\n",
    "FILE_NAME = 'information.csv'\n",
    "\n",
    "input_data = pd.read_csv(FILE_NAME)\n",
    "display(input_data.head(5))"
   ]
  },
  {
   "cell_type": "markdown",
   "metadata": {},
   "source": [
    "### Feature Engineering\n",
    "1. This part helps to get the count of the values of the input data.\n",
    "2. Added Four Derived Attributes (customer_duration, customer_recency, Avg_Ticket_Value, Customer_Value) to make the feature slection process easier\n",
    "#### customer_duration\n",
    "This signifies how much time customer is accustomed with the platform.\n",
    "#### customer_recency\n",
    "This signifies the time difference of last order of the data.\n",
    "#### Avg_Ticket_Value\n",
    "This signifies the avg spending pattern of the user\n",
    "#### Customer_Value\n",
    "This signifies that week by week spending is decreasing or increasing. If spending increases customer value increases and if it decreases then customer value is decreasing."
   ]
  },
  {
   "cell_type": "code",
   "execution_count": 232,
   "metadata": {},
   "outputs": [
    {
     "name": "stdout",
     "output_type": "stream",
     "text": [
      "('Number of rows: ', 10000)\n"
     ]
    },
    {
     "data": {
      "text/html": [
       "<div>\n",
       "<style scoped>\n",
       "    .dataframe tbody tr th:only-of-type {\n",
       "        vertical-align: middle;\n",
       "    }\n",
       "\n",
       "    .dataframe tbody tr th {\n",
       "        vertical-align: top;\n",
       "    }\n",
       "\n",
       "    .dataframe thead th {\n",
       "        text-align: right;\n",
       "    }\n",
       "</style>\n",
       "<table border=\"1\" class=\"dataframe\">\n",
       "  <thead>\n",
       "    <tr style=\"text-align: right;\">\n",
       "      <th></th>\n",
       "      <th>customer_id</th>\n",
       "      <th># of Orders</th>\n",
       "      <th># of Orders in last 7 days</th>\n",
       "      <th># of Orders in last 4 weeks</th>\n",
       "      <th>Amount</th>\n",
       "      <th>Amount in last 7 days</th>\n",
       "      <th>Amount in last 4 weeks</th>\n",
       "      <th>Avg_DistanceFromResturant</th>\n",
       "      <th>Avg_DeliveryTime</th>\n",
       "      <th>customer_duration</th>\n",
       "      <th>...</th>\n",
       "      <th>Amount_</th>\n",
       "      <th>Amount_in_last_7_days</th>\n",
       "      <th>Amount_in_last_4_weeks</th>\n",
       "      <th>Avg_DistanceFromResturant_</th>\n",
       "      <th>Avg_DeliveryTime_</th>\n",
       "      <th>duration</th>\n",
       "      <th>recency</th>\n",
       "      <th>Avg_Ticket_Value</th>\n",
       "      <th>Avg_Ticket_Value_</th>\n",
       "      <th>Customer_Value</th>\n",
       "    </tr>\n",
       "  </thead>\n",
       "  <tbody>\n",
       "    <tr>\n",
       "      <th>Count of values</th>\n",
       "      <td>10000.0</td>\n",
       "      <td>10000.0</td>\n",
       "      <td>1923.0</td>\n",
       "      <td>4341.0</td>\n",
       "      <td>10000.0</td>\n",
       "      <td>10000.0</td>\n",
       "      <td>10000.0</td>\n",
       "      <td>10000.0</td>\n",
       "      <td>10000.0</td>\n",
       "      <td>10000.0</td>\n",
       "      <td>...</td>\n",
       "      <td>10000.0</td>\n",
       "      <td>10000.0</td>\n",
       "      <td>10000.0</td>\n",
       "      <td>10000.0</td>\n",
       "      <td>10000.0</td>\n",
       "      <td>10000.0</td>\n",
       "      <td>10000.0</td>\n",
       "      <td>10000.0</td>\n",
       "      <td>10000.0</td>\n",
       "      <td>10000.0</td>\n",
       "    </tr>\n",
       "  </tbody>\n",
       "</table>\n",
       "<p>1 rows × 24 columns</p>\n",
       "</div>"
      ],
      "text/plain": [
       "                 customer_id  # of Orders  # of Orders in last 7 days  \\\n",
       "Count of values      10000.0      10000.0                      1923.0   \n",
       "\n",
       "                 # of Orders in last 4 weeks   Amount  Amount in last 7 days  \\\n",
       "Count of values                       4341.0  10000.0                10000.0   \n",
       "\n",
       "                 Amount in last 4 weeks  Avg_DistanceFromResturant  \\\n",
       "Count of values                 10000.0                    10000.0   \n",
       "\n",
       "                 Avg_DeliveryTime  customer_duration       ...        Amount_  \\\n",
       "Count of values           10000.0            10000.0       ...        10000.0   \n",
       "\n",
       "                 Amount_in_last_7_days  Amount_in_last_4_weeks  \\\n",
       "Count of values                10000.0                 10000.0   \n",
       "\n",
       "                 Avg_DistanceFromResturant_  Avg_DeliveryTime_  duration  \\\n",
       "Count of values                     10000.0            10000.0   10000.0   \n",
       "\n",
       "                 recency  Avg_Ticket_Value  Avg_Ticket_Value_  Customer_Value  \n",
       "Count of values  10000.0           10000.0            10000.0         10000.0  \n",
       "\n",
       "[1 rows x 24 columns]"
      ]
     },
     "metadata": {},
     "output_type": "display_data"
    }
   ],
   "source": [
    "print(\"Number of rows: \",input_data.shape[0])\n",
    "counts = input_data.describe().iloc[0]\n",
    "display(\n",
    "    pd.DataFrame(\n",
    "        counts.tolist(), \n",
    "        columns=[\"Count of values\"], \n",
    "        index=counts.index.values\n",
    "    ).transpose()\n",
    ")\n",
    "\n",
    "input_data['First Time']=pd.to_datetime(input_data['First Time'], infer_datetime_format=True)\n",
    "input_data['Recent Time']=pd.to_datetime(input_data['Recent Time'], infer_datetime_format=True)\n",
    "input_data['customer_duration'] = input_data.apply(lambda x: (datetime.date.today()-x['First Time'].date()).days, axis=1)\n",
    "input_data['customer_recency'] = input_data.apply(lambda x: (datetime.date.today()-x['Recent Time'].date()).days, axis=1)\n",
    "input_data['Avg_Ticket_Value'] = input_data['Amount']*1.0/input_data['# of Orders']\n",
    "input_data['Customer_Value'] = input_data['Amount in last 7 days'] - (input_data['Amount in last 4 weeks']*1.0/4)"
   ]
  },
  {
   "cell_type": "markdown",
   "metadata": {},
   "source": [
    "### Feature Selection\n",
    "Used __SVD__ to remove redundant feature.\n",
    "1. Prior That  data standardization have been done\n",
    "2. value = value-min/max-min has been applied to standardize that though Recency weightage should have been calculated seperately in reverse manner (that has been done below)\n",
    "3. Selection of columns has been done based on _svd components_"
   ]
  },
  {
   "cell_type": "code",
   "execution_count": 234,
   "metadata": {},
   "outputs": [],
   "source": [
    "\n",
    "input_data['#_of_Orders']=(input_data['# of Orders']-input_data['# of Orders'].min()*1.0)/(input_data['# of Orders'].max()-input_data['# of Orders'].min())\n",
    "input_data['#_of_Orders_in_last_7_days']=(input_data['# of Orders in last 7 days']-input_data['# of Orders in last 7 days'].min()*1.0)/(input_data['# of Orders in last 7 days'].max()-input_data['# of Orders in last 7 days'].min())\n",
    "input_data['#_of_Orders_in_last_4_weeks']=(input_data['# of Orders in last 4 weeks']-input_data['# of Orders in last 4 weeks'].min()*1.0)/(input_data['# of Orders in last 4 weeks'].max()-input_data['# of Orders in last 4 weeks'].min())\n",
    "input_data['Amount_']=(input_data['Amount']-input_data['Amount'].min()*1.0)/(input_data['Amount'].max()-input_data['Amount'].min())\n",
    "input_data['Amount_in_last_7_days']=(input_data['Amount in last 7 days']-input_data['Amount in last 7 days'].min()*1.0)/(input_data['Amount in last 7 days'].max()-input_data['Amount in last 7 days'].min())\n",
    "input_data['Amount_in_last_4_weeks']=(input_data['Amount in last 4 weeks']-input_data['Amount in last 4 weeks'].min()*1.0)/(input_data['Amount in last 4 weeks'].max()-input_data['Amount in last 4 weeks'].min())\n",
    "input_data['Avg_DistanceFromResturant_']=(input_data['Avg_DistanceFromResturant']-input_data['Avg_DistanceFromResturant'].min()*1.0)/(input_data['Avg_DistanceFromResturant'].max()-input_data['Avg_DistanceFromResturant'].min())\n",
    "input_data['Avg_DeliveryTime_']=(input_data['Avg_DeliveryTime']-input_data['Avg_DeliveryTime'].min()*1.0)/(input_data['Avg_DeliveryTime'].max()-input_data['Avg_DeliveryTime'].min())\n",
    "input_data['duration']=(input_data['customer_duration']-input_data['customer_duration'].min()*1.0)/(input_data['customer_duration'].max()-input_data['customer_duration'].min())\n",
    "input_data['recency']=(input_data['customer_recency']-input_data['customer_recency'].min()*1.0)/(input_data['customer_recency'].max()-input_data['customer_recency'].min())\n",
    "input_data['Avg_Ticket_Value_'] = (input_data['Avg_Ticket_Value']-input_data['Avg_Ticket_Value'].min()*1.0)/(input_data['Avg_Ticket_Value'].max()-input_data['Avg_Ticket_Value'].min())\n",
    "input_data['Customer_Value_'] = (input_data['Customer_Value']-input_data['Customer_Value'].min()*1.0)/(input_data['Customer_Value'].max()-input_data['Customer_Value'].min())"
   ]
  },
  {
   "cell_type": "code",
   "execution_count": 235,
   "metadata": {},
   "outputs": [
    {
     "data": {
      "text/plain": [
       "'+0.089*#_of_Ordersget the dimensions coeff +0.064*#_of_Orders_in_last_7_daysget the dimensions coeff +0.093*#_of_Orders_in_last_4_weeksget the dimensions coeff +0.045*Amount_get the dimensions coeff +0.061*Amount_in_last_7_daysget the dimensions coeff +0.062*Amount_in_last_4_weeksget the dimensions coeff +0.482*Avg_DistanceFromResturant_get the dimensions coeff +0.336*Avg_DeliveryTime_get the dimensions coeff +0.627*durationget the dimensions coeff +0.145*recencyget the dimensions coeff +0.035*Avg_Ticket_Value_get the dimensions coeff +0.457*Customer_Value_'"
      ]
     },
     "metadata": {},
     "output_type": "display_data"
    }
   ],
   "source": [
    "from sklearn.decomposition import TruncatedSVD\n",
    "dataframe = input_data[['#_of_Orders','#_of_Orders_in_last_7_days','#_of_Orders_in_last_4_weeks','Amount_','Amount_in_last_7_days','Amount_in_last_4_weeks','Avg_DistanceFromResturant_','Avg_DeliveryTime_','duration','recency','Avg_Ticket_Value_','Customer_Value_']]\n",
    "svd = TruncatedSVD(n_components=9, n_iter=15, random_state=42)\n",
    "dataframe=dataframe.dropna()\n",
    "svd.fit(dataframe.values.tolist()) \n",
    "#print(svd.explained_variance_ratio_)\n",
    "var_ratios=svd.explained_variance_ratio_\n",
    "#print(svd.singular_values_)\n",
    "display( \"get the dimensions coeff\" \n",
    "\" \".join([\n",
    "    \"%+0.3f*%s\" % (coef, feat) \n",
    "    for coef, feat in zip(svd.components_[0], dataframe.columns)\n",
    "]))"
   ]
  },
  {
   "cell_type": "markdown",
   "metadata": {},
   "source": [
    "Based on __SVD__ From This data set following columns has been selected \n",
    "1. #_of_Orders\n",
    "3. #_of_Orders_in_last_4_weeks\n",
    "4. Avg_DistanceFromResturant\n",
    "5. Avg_DeliveryTime\n",
    "6. customer_duration\n",
    "7. customer_recency \n",
    "\n",
    "Here #_of_Orders_in_last_4_weeks contains NA, Based on Perception, if no order data available we can can consider that no order has been placed in that period.\n",
    "P.S - Refinement can be done, based on Amount (if amount==0 then order 0 else, populate based on Avg ticket value)"
   ]
  },
  {
   "cell_type": "code",
   "execution_count": null,
   "metadata": {},
   "outputs": [],
   "source": []
  },
  {
   "cell_type": "markdown",
   "metadata": {},
   "source": [
    "# Feature Selection\n",
    "Based on variance results we will select \n",
    "1. No of Orders\n",
    "3. No of Orders in last 4 weeks\n",
    "4. Avg_DistanceFromResturant\n",
    "5. Avg_DeliveryTime\n",
    "6. customer_duration\n",
    "7. customer_recency\n",
    "\n",
    "For further analysis"
   ]
  },
  {
   "cell_type": "code",
   "execution_count": 236,
   "metadata": {},
   "outputs": [
    {
     "name": "stdout",
     "output_type": "stream",
     "text": [
      "Columns Having None : ['#_of_Orders_in_last_4_weeks']\n"
     ]
    }
   ],
   "source": [
    "finaldataframe = input_data[['customer_id','#_of_Orders','#_of_Orders_in_last_4_weeks','Avg_DistanceFromResturant','Avg_DeliveryTime','customer_duration','customer_recency','Customer_Value']]\n",
    "print \"Columns Having None :\",finaldataframe.columns[finaldataframe.isna().any()].tolist()\n",
    "finaldataframe=finaldataframe.fillna(0)"
   ]
  },
  {
   "cell_type": "code",
   "execution_count": 237,
   "metadata": {},
   "outputs": [
    {
     "data": {
      "text/plain": [
       "(10000, 8)"
      ]
     },
     "execution_count": 237,
     "metadata": {},
     "output_type": "execute_result"
    }
   ],
   "source": [
    "finaldataframe.shape"
   ]
  },
  {
   "cell_type": "code",
   "execution_count": 238,
   "metadata": {},
   "outputs": [
    {
     "data": {
      "text/html": [
       "<div>\n",
       "<style scoped>\n",
       "    .dataframe tbody tr th:only-of-type {\n",
       "        vertical-align: middle;\n",
       "    }\n",
       "\n",
       "    .dataframe tbody tr th {\n",
       "        vertical-align: top;\n",
       "    }\n",
       "\n",
       "    .dataframe thead th {\n",
       "        text-align: right;\n",
       "    }\n",
       "</style>\n",
       "<table border=\"1\" class=\"dataframe\">\n",
       "  <thead>\n",
       "    <tr style=\"text-align: right;\">\n",
       "      <th></th>\n",
       "      <th>customer_id</th>\n",
       "      <th>#_of_Orders</th>\n",
       "      <th>#_of_Orders_in_last_4_weeks</th>\n",
       "      <th>Avg_DistanceFromResturant</th>\n",
       "      <th>Avg_DeliveryTime</th>\n",
       "      <th>customer_duration</th>\n",
       "      <th>customer_recency</th>\n",
       "      <th>Customer_Value</th>\n",
       "    </tr>\n",
       "  </thead>\n",
       "  <tbody>\n",
       "    <tr>\n",
       "      <th>0</th>\n",
       "      <td>1269647</td>\n",
       "      <td>1.000000</td>\n",
       "      <td>0.933333</td>\n",
       "      <td>1.6</td>\n",
       "      <td>51</td>\n",
       "      <td>1191</td>\n",
       "      <td>1027</td>\n",
       "      <td>-2422.25</td>\n",
       "    </tr>\n",
       "    <tr>\n",
       "      <th>1</th>\n",
       "      <td>167631</td>\n",
       "      <td>0.995261</td>\n",
       "      <td>0.400000</td>\n",
       "      <td>2.2</td>\n",
       "      <td>42</td>\n",
       "      <td>1186</td>\n",
       "      <td>1022</td>\n",
       "      <td>880.75</td>\n",
       "    </tr>\n",
       "    <tr>\n",
       "      <th>2</th>\n",
       "      <td>301524</td>\n",
       "      <td>0.890995</td>\n",
       "      <td>0.711111</td>\n",
       "      <td>2.5</td>\n",
       "      <td>57</td>\n",
       "      <td>1194</td>\n",
       "      <td>1028</td>\n",
       "      <td>171.00</td>\n",
       "    </tr>\n",
       "    <tr>\n",
       "      <th>3</th>\n",
       "      <td>1268254</td>\n",
       "      <td>0.867299</td>\n",
       "      <td>0.800000</td>\n",
       "      <td>3.1</td>\n",
       "      <td>55</td>\n",
       "      <td>1189</td>\n",
       "      <td>1023</td>\n",
       "      <td>-802.50</td>\n",
       "    </tr>\n",
       "    <tr>\n",
       "      <th>4</th>\n",
       "      <td>357161</td>\n",
       "      <td>0.857820</td>\n",
       "      <td>0.488889</td>\n",
       "      <td>2.4</td>\n",
       "      <td>36</td>\n",
       "      <td>1179</td>\n",
       "      <td>1018</td>\n",
       "      <td>-751.50</td>\n",
       "    </tr>\n",
       "  </tbody>\n",
       "</table>\n",
       "</div>"
      ],
      "text/plain": [
       "   customer_id  #_of_Orders  #_of_Orders_in_last_4_weeks  \\\n",
       "0      1269647     1.000000                     0.933333   \n",
       "1       167631     0.995261                     0.400000   \n",
       "2       301524     0.890995                     0.711111   \n",
       "3      1268254     0.867299                     0.800000   \n",
       "4       357161     0.857820                     0.488889   \n",
       "\n",
       "   Avg_DistanceFromResturant  Avg_DeliveryTime  customer_duration  \\\n",
       "0                        1.6                51               1191   \n",
       "1                        2.2                42               1186   \n",
       "2                        2.5                57               1194   \n",
       "3                        3.1                55               1189   \n",
       "4                        2.4                36               1179   \n",
       "\n",
       "   customer_recency  Customer_Value  \n",
       "0              1027        -2422.25  \n",
       "1              1022          880.75  \n",
       "2              1028          171.00  \n",
       "3              1023         -802.50  \n",
       "4              1018         -751.50  "
      ]
     },
     "execution_count": 238,
     "metadata": {},
     "output_type": "execute_result"
    }
   ],
   "source": [
    "finaldataframe.head()"
   ]
  },
  {
   "cell_type": "code",
   "execution_count": 208,
   "metadata": {},
   "outputs": [
    {
     "data": {
      "image/png": "[encoded data removed]",
      "text/plain": [
       "<Figure size 432x288 with 1 Axes>"
      ]
     },
     "metadata": {},
     "output_type": "display_data"
    }
   ],
   "source": [
    "finaldataframe.customer_id.groupby(finaldataframe.customer_duration).nunique().hist(bins=5);"
   ]
  },
  {
   "cell_type": "code",
   "execution_count": 210,
   "metadata": {},
   "outputs": [
    {
     "data": {
      "image/png": "[encoded data removed]",
      "text/plain": [
       "<Figure size 432x288 with 1 Axes>"
      ]
     },
     "metadata": {},
     "output_type": "display_data"
    }
   ],
   "source": [
    "finaldataframe.customer_id.groupby(finaldataframe.customer_recency).nunique().hist(bins=5);"
   ]
  },
  {
   "cell_type": "code",
   "execution_count": 98,
   "metadata": {},
   "outputs": [
    {
     "data": {
      "image/png": "[encoded data removed]",
      "text/plain": [
       "<Figure size 432x288 with 1 Axes>"
      ]
     },
     "metadata": {},
     "output_type": "display_data"
    }
   ],
   "source": [
    "finaldataframe.customer_id.groupby(finaldataframe.Amount).nunique().hist(bins=5);"
   ]
  },
  {
   "cell_type": "code",
   "execution_count": 99,
   "metadata": {},
   "outputs": [
    {
     "data": {
      "image/png": "[encoded data removed]",
      "text/plain": [
       "<Figure size 432x288 with 1 Axes>"
      ]
     },
     "metadata": {},
     "output_type": "display_data"
    }
   ],
   "source": [
    "finaldataframe.customer_id.groupby(finaldataframe.Amount_in_last_4_weeks).nunique().hist(bins=5);"
   ]
  },
  {
   "cell_type": "code",
   "execution_count": 100,
   "metadata": {},
   "outputs": [
    {
     "data": {
      "image/png": "[encoded data removed]",
      "text/plain": [
       "<Figure size 432x288 with 1 Axes>"
      ]
     },
     "metadata": {},
     "output_type": "display_data"
    }
   ],
   "source": [
    "finaldataframe.customer_id.groupby(finaldataframe.Amount_in_last_7_days).nunique().hist(bins=5);"
   ]
  },
  {
   "cell_type": "markdown",
   "metadata": {},
   "source": [
    "# Clustering of the Users\n",
    "\n",
    "Optimal value of k has been found using __elbow method__ to determine optimal value of k"
   ]
  },
  {
   "cell_type": "code",
   "execution_count": 239,
   "metadata": {},
   "outputs": [
    {
     "name": "stdout",
     "output_type": "stream",
     "text": [
      "Columns Having None : ['#_of_Orders_in_last_4_weeks']\n"
     ]
    }
   ],
   "source": [
    "finaldataframe = input_data[['#_of_Orders','#_of_Orders_in_last_4_weeks','Avg_DistanceFromResturant','Avg_DeliveryTime','customer_duration','customer_recency','Customer_Value']]\n",
    "print \"Columns Having None :\",finaldataframe.columns[finaldataframe.isna().any()].tolist()\n",
    "finaldataframe=finaldataframe.fillna(0)"
   ]
  },
  {
   "cell_type": "code",
   "execution_count": null,
   "metadata": {},
   "outputs": [],
   "source": []
  },
  {
   "cell_type": "code",
   "execution_count": 240,
   "metadata": {},
   "outputs": [
    {
     "data": {
      "image/png": "[encoded data removed]",
      "text/plain": [
       "<Figure size 432x288 with 1 Axes>"
      ]
     },
     "metadata": {},
     "output_type": "display_data"
    }
   ],
   "source": [
    "data_x = finaldataframe.values\n",
    "distortions = []\n",
    "K = range(1,20)\n",
    "for k in K:\n",
    "    kmeanModel = KMeans(n_clusters=k).fit(data_x)\n",
    "    kmeanModel.fit(data_x)\n",
    "    distortions.append(sum(np.min(cdist(data_x, kmeanModel.cluster_centers_, 'euclidean'), axis=1)) / data_x.shape[0])\n",
    "\n",
    "plt.plot(K, distortions, 'bx-')\n",
    "plt.xlabel('k')\n",
    "plt.ylabel('Distortion')\n",
    "plt.title('Optimal k')\n",
    "plt.show()"
   ]
  },
  {
   "cell_type": "code",
   "execution_count": 241,
   "metadata": {},
   "outputs": [],
   "source": [
    "FINAL_K = 12\n",
    "kmeanModel = KMeans(n_clusters=FINAL_K).fit(data_x)"
   ]
  },
  {
   "cell_type": "code",
   "execution_count": 242,
   "metadata": {},
   "outputs": [],
   "source": [
    "customer_labels = kmeanModel.labels_"
   ]
  },
  {
   "cell_type": "code",
   "execution_count": 244,
   "metadata": {},
   "outputs": [],
   "source": [
    "finaldataframe = input_data[['customer_id','# of Orders','# of Orders in last 4 weeks','Avg_DistanceFromResturant','Avg_DeliveryTime','customer_duration','customer_recency','Avg_Ticket_Value','Customer_Value']]"
   ]
  },
  {
   "cell_type": "code",
   "execution_count": 245,
   "metadata": {},
   "outputs": [],
   "source": [
    "rows = finaldataframe.shape[0]"
   ]
  },
  {
   "cell_type": "code",
   "execution_count": 246,
   "metadata": {},
   "outputs": [
    {
     "name": "stderr",
     "output_type": "stream",
     "text": [
      "/home/ubuntu/anaconda2/lib/python2.7/site-packages/ipykernel/__main__.py:1: SettingWithCopyWarning: \n",
      "A value is trying to be set on a copy of a slice from a DataFrame.\n",
      "Try using .loc[row_indexer,col_indexer] = value instead\n",
      "\n",
      "See the caveats in the documentation: http://pandas.pydata.org/pandas-docs/stable/indexing.html#indexing-view-versus-copy\n",
      "  if __name__ == '__main__':\n"
     ]
    }
   ],
   "source": [
    "finaldataframe['cluster_id']=customer_labels"
   ]
  },
  {
   "cell_type": "code",
   "execution_count": 247,
   "metadata": {},
   "outputs": [
    {
     "name": "stdout",
     "output_type": "stream",
     "text": [
      "    cluster_id      0\n",
      "0            0  31.04\n",
      "1            1   0.93\n",
      "2            2   0.69\n",
      "3            3   2.16\n",
      "4            4   0.03\n",
      "5            5   2.64\n",
      "6            6  27.21\n",
      "7            7   0.17\n",
      "8            8   0.08\n",
      "9            9   9.16\n",
      "10          10   5.94\n",
      "11          11  19.95\n"
     ]
    }
   ],
   "source": [
    "j=finaldataframe.groupby(['cluster_id']).size()*100.0/finaldataframe.shape[0]\n",
    "j=j.reset_index()\n",
    "print j"
   ]
  },
  {
   "cell_type": "code",
   "execution_count": 253,
   "metadata": {},
   "outputs": [],
   "source": [
    "finaldataframe=finaldataframe.fillna(0)\n",
    "finaldataframe['recency']=(finaldataframe.customer_recency.max()-finaldataframe['customer_recency'])*1.0/abs(finaldataframe.customer_recency.min()-finaldataframe.customer_recency.max())\n",
    "finaldataframe['duration']=(finaldataframe['customer_duration']-finaldataframe.customer_duration.min())*1.0/abs(finaldataframe.customer_duration.min()-finaldataframe.customer_duration.max())\n",
    "user_segmenst=finaldataframe.groupby(['cluster_id'])['# of Orders','# of Orders in last 4 weeks','duration','recency','Avg_Ticket_Value','Customer_Value'].agg(['size','mean','median'])"
   ]
  },
  {
   "cell_type": "code",
   "execution_count": 254,
   "metadata": {},
   "outputs": [
    {
     "data": {
      "text/html": [
       "<div>\n",
       "<style scoped>\n",
       "    .dataframe tbody tr th:only-of-type {\n",
       "        vertical-align: middle;\n",
       "    }\n",
       "\n",
       "    .dataframe tbody tr th {\n",
       "        vertical-align: top;\n",
       "    }\n",
       "\n",
       "    .dataframe thead tr th {\n",
       "        text-align: left;\n",
       "    }\n",
       "</style>\n",
       "<table border=\"1\" class=\"dataframe\">\n",
       "  <thead>\n",
       "    <tr>\n",
       "      <th></th>\n",
       "      <th>cluster_id</th>\n",
       "      <th colspan=\"3\" halign=\"left\"># of Orders</th>\n",
       "      <th colspan=\"3\" halign=\"left\"># of Orders in last 4 weeks</th>\n",
       "      <th colspan=\"3\" halign=\"left\">duration</th>\n",
       "      <th colspan=\"3\" halign=\"left\">recency</th>\n",
       "      <th colspan=\"3\" halign=\"left\">Avg_Ticket_Value</th>\n",
       "      <th colspan=\"3\" halign=\"left\">Customer_Value</th>\n",
       "    </tr>\n",
       "    <tr>\n",
       "      <th></th>\n",
       "      <th></th>\n",
       "      <th>size</th>\n",
       "      <th>mean</th>\n",
       "      <th>median</th>\n",
       "      <th>size</th>\n",
       "      <th>mean</th>\n",
       "      <th>median</th>\n",
       "      <th>size</th>\n",
       "      <th>mean</th>\n",
       "      <th>median</th>\n",
       "      <th>size</th>\n",
       "      <th>mean</th>\n",
       "      <th>median</th>\n",
       "      <th>size</th>\n",
       "      <th>mean</th>\n",
       "      <th>median</th>\n",
       "      <th>size</th>\n",
       "      <th>mean</th>\n",
       "      <th>median</th>\n",
       "    </tr>\n",
       "  </thead>\n",
       "  <tbody>\n",
       "    <tr>\n",
       "      <th>0</th>\n",
       "      <td>0</td>\n",
       "      <td>3104</td>\n",
       "      <td>2.328608</td>\n",
       "      <td>1</td>\n",
       "      <td>3104</td>\n",
       "      <td>0.643041</td>\n",
       "      <td>0.0</td>\n",
       "      <td>3104</td>\n",
       "      <td>0.339232</td>\n",
       "      <td>0.351852</td>\n",
       "      <td>3104</td>\n",
       "      <td>0.702470</td>\n",
       "      <td>0.703196</td>\n",
       "      <td>3104</td>\n",
       "      <td>315.455017</td>\n",
       "      <td>229.000000</td>\n",
       "      <td>3104</td>\n",
       "      <td>-10.435325</td>\n",
       "      <td>0.000</td>\n",
       "    </tr>\n",
       "    <tr>\n",
       "      <th>1</th>\n",
       "      <td>1</td>\n",
       "      <td>93</td>\n",
       "      <td>17.268817</td>\n",
       "      <td>6</td>\n",
       "      <td>93</td>\n",
       "      <td>5.193548</td>\n",
       "      <td>3.0</td>\n",
       "      <td>93</td>\n",
       "      <td>0.519713</td>\n",
       "      <td>0.495370</td>\n",
       "      <td>93</td>\n",
       "      <td>0.857760</td>\n",
       "      <td>0.853881</td>\n",
       "      <td>93</td>\n",
       "      <td>740.840805</td>\n",
       "      <td>628.276596</td>\n",
       "      <td>93</td>\n",
       "      <td>1215.645161</td>\n",
       "      <td>1157.250</td>\n",
       "    </tr>\n",
       "    <tr>\n",
       "      <th>2</th>\n",
       "      <td>2</td>\n",
       "      <td>69</td>\n",
       "      <td>30.420290</td>\n",
       "      <td>22</td>\n",
       "      <td>69</td>\n",
       "      <td>8.768116</td>\n",
       "      <td>7.0</td>\n",
       "      <td>69</td>\n",
       "      <td>0.658481</td>\n",
       "      <td>0.740741</td>\n",
       "      <td>69</td>\n",
       "      <td>0.831381</td>\n",
       "      <td>0.831050</td>\n",
       "      <td>69</td>\n",
       "      <td>773.410676</td>\n",
       "      <td>672.971429</td>\n",
       "      <td>69</td>\n",
       "      <td>-1152.797101</td>\n",
       "      <td>-1083.250</td>\n",
       "    </tr>\n",
       "    <tr>\n",
       "      <th>3</th>\n",
       "      <td>3</td>\n",
       "      <td>216</td>\n",
       "      <td>15.148148</td>\n",
       "      <td>8</td>\n",
       "      <td>216</td>\n",
       "      <td>4.000000</td>\n",
       "      <td>3.0</td>\n",
       "      <td>216</td>\n",
       "      <td>0.540166</td>\n",
       "      <td>0.643519</td>\n",
       "      <td>216</td>\n",
       "      <td>0.861682</td>\n",
       "      <td>0.867580</td>\n",
       "      <td>216</td>\n",
       "      <td>547.321328</td>\n",
       "      <td>496.900000</td>\n",
       "      <td>216</td>\n",
       "      <td>611.097222</td>\n",
       "      <td>572.500</td>\n",
       "    </tr>\n",
       "    <tr>\n",
       "      <th>4</th>\n",
       "      <td>4</td>\n",
       "      <td>3</td>\n",
       "      <td>48.333333</td>\n",
       "      <td>33</td>\n",
       "      <td>3</td>\n",
       "      <td>10.666667</td>\n",
       "      <td>9.0</td>\n",
       "      <td>3</td>\n",
       "      <td>0.666667</td>\n",
       "      <td>0.870370</td>\n",
       "      <td>3</td>\n",
       "      <td>0.873668</td>\n",
       "      <td>0.867580</td>\n",
       "      <td>3</td>\n",
       "      <td>2109.159596</td>\n",
       "      <td>852.606061</td>\n",
       "      <td>3</td>\n",
       "      <td>5927.500000</td>\n",
       "      <td>6391.500</td>\n",
       "    </tr>\n",
       "    <tr>\n",
       "      <th>5</th>\n",
       "      <td>5</td>\n",
       "      <td>264</td>\n",
       "      <td>24.147727</td>\n",
       "      <td>13</td>\n",
       "      <td>264</td>\n",
       "      <td>6.117424</td>\n",
       "      <td>4.0</td>\n",
       "      <td>264</td>\n",
       "      <td>0.633523</td>\n",
       "      <td>0.729167</td>\n",
       "      <td>264</td>\n",
       "      <td>0.819185</td>\n",
       "      <td>0.826484</td>\n",
       "      <td>264</td>\n",
       "      <td>638.679756</td>\n",
       "      <td>541.637500</td>\n",
       "      <td>264</td>\n",
       "      <td>-553.106061</td>\n",
       "      <td>-528.375</td>\n",
       "    </tr>\n",
       "    <tr>\n",
       "      <th>6</th>\n",
       "      <td>6</td>\n",
       "      <td>2721</td>\n",
       "      <td>2.402058</td>\n",
       "      <td>1</td>\n",
       "      <td>2721</td>\n",
       "      <td>0.000000</td>\n",
       "      <td>0.0</td>\n",
       "      <td>2721</td>\n",
       "      <td>0.720146</td>\n",
       "      <td>0.722222</td>\n",
       "      <td>2721</td>\n",
       "      <td>0.329902</td>\n",
       "      <td>0.337900</td>\n",
       "      <td>2721</td>\n",
       "      <td>359.758632</td>\n",
       "      <td>281.000000</td>\n",
       "      <td>2721</td>\n",
       "      <td>0.000000</td>\n",
       "      <td>0.000</td>\n",
       "    </tr>\n",
       "    <tr>\n",
       "      <th>7</th>\n",
       "      <td>7</td>\n",
       "      <td>17</td>\n",
       "      <td>20.941176</td>\n",
       "      <td>15</td>\n",
       "      <td>17</td>\n",
       "      <td>7.470588</td>\n",
       "      <td>3.0</td>\n",
       "      <td>17</td>\n",
       "      <td>0.611928</td>\n",
       "      <td>0.671296</td>\n",
       "      <td>17</td>\n",
       "      <td>0.843943</td>\n",
       "      <td>0.840183</td>\n",
       "      <td>17</td>\n",
       "      <td>1361.537628</td>\n",
       "      <td>827.428571</td>\n",
       "      <td>17</td>\n",
       "      <td>2371.426471</td>\n",
       "      <td>2305.250</td>\n",
       "    </tr>\n",
       "    <tr>\n",
       "      <th>8</th>\n",
       "      <td>8</td>\n",
       "      <td>8</td>\n",
       "      <td>45.500000</td>\n",
       "      <td>20</td>\n",
       "      <td>8</td>\n",
       "      <td>13.000000</td>\n",
       "      <td>9.5</td>\n",
       "      <td>8</td>\n",
       "      <td>0.543981</td>\n",
       "      <td>0.569444</td>\n",
       "      <td>8</td>\n",
       "      <td>0.833904</td>\n",
       "      <td>0.831050</td>\n",
       "      <td>8</td>\n",
       "      <td>3212.465970</td>\n",
       "      <td>1292.164835</td>\n",
       "      <td>8</td>\n",
       "      <td>-3028.968750</td>\n",
       "      <td>-2594.000</td>\n",
       "    </tr>\n",
       "    <tr>\n",
       "      <th>9</th>\n",
       "      <td>9</td>\n",
       "      <td>916</td>\n",
       "      <td>11.448690</td>\n",
       "      <td>6</td>\n",
       "      <td>916</td>\n",
       "      <td>3.183406</td>\n",
       "      <td>2.0</td>\n",
       "      <td>916</td>\n",
       "      <td>0.527338</td>\n",
       "      <td>0.555556</td>\n",
       "      <td>916</td>\n",
       "      <td>0.813782</td>\n",
       "      <td>0.817352</td>\n",
       "      <td>916</td>\n",
       "      <td>485.821514</td>\n",
       "      <td>448.625000</td>\n",
       "      <td>916</td>\n",
       "      <td>-210.227347</td>\n",
       "      <td>-198.750</td>\n",
       "    </tr>\n",
       "    <tr>\n",
       "      <th>10</th>\n",
       "      <td>10</td>\n",
       "      <td>594</td>\n",
       "      <td>10.794613</td>\n",
       "      <td>5</td>\n",
       "      <td>594</td>\n",
       "      <td>3.146465</td>\n",
       "      <td>2.0</td>\n",
       "      <td>594</td>\n",
       "      <td>0.495807</td>\n",
       "      <td>0.520833</td>\n",
       "      <td>594</td>\n",
       "      <td>0.860969</td>\n",
       "      <td>0.863014</td>\n",
       "      <td>594</td>\n",
       "      <td>339.197706</td>\n",
       "      <td>304.692308</td>\n",
       "      <td>594</td>\n",
       "      <td>249.835859</td>\n",
       "      <td>234.750</td>\n",
       "    </tr>\n",
       "    <tr>\n",
       "      <th>11</th>\n",
       "      <td>11</td>\n",
       "      <td>1995</td>\n",
       "      <td>12.622556</td>\n",
       "      <td>8</td>\n",
       "      <td>1995</td>\n",
       "      <td>1.639098</td>\n",
       "      <td>1.0</td>\n",
       "      <td>1995</td>\n",
       "      <td>0.770482</td>\n",
       "      <td>0.782407</td>\n",
       "      <td>1995</td>\n",
       "      <td>0.739973</td>\n",
       "      <td>0.748858</td>\n",
       "      <td>1995</td>\n",
       "      <td>266.273467</td>\n",
       "      <td>211.333333</td>\n",
       "      <td>1995</td>\n",
       "      <td>-10.300752</td>\n",
       "      <td>0.000</td>\n",
       "    </tr>\n",
       "  </tbody>\n",
       "</table>\n",
       "</div>"
      ],
      "text/plain": [
       "   cluster_id # of Orders                   # of Orders in last 4 weeks  \\\n",
       "                     size       mean median                        size   \n",
       "0           0        3104   2.328608      1                        3104   \n",
       "1           1          93  17.268817      6                          93   \n",
       "2           2          69  30.420290     22                          69   \n",
       "3           3         216  15.148148      8                         216   \n",
       "4           4           3  48.333333     33                           3   \n",
       "5           5         264  24.147727     13                         264   \n",
       "6           6        2721   2.402058      1                        2721   \n",
       "7           7          17  20.941176     15                          17   \n",
       "8           8           8  45.500000     20                           8   \n",
       "9           9         916  11.448690      6                         916   \n",
       "10         10         594  10.794613      5                         594   \n",
       "11         11        1995  12.622556      8                        1995   \n",
       "\n",
       "                     duration                     recency                      \\\n",
       "         mean median     size      mean    median    size      mean    median   \n",
       "0    0.643041    0.0     3104  0.339232  0.351852    3104  0.702470  0.703196   \n",
       "1    5.193548    3.0       93  0.519713  0.495370      93  0.857760  0.853881   \n",
       "2    8.768116    7.0       69  0.658481  0.740741      69  0.831381  0.831050   \n",
       "3    4.000000    3.0      216  0.540166  0.643519     216  0.861682  0.867580   \n",
       "4   10.666667    9.0        3  0.666667  0.870370       3  0.873668  0.867580   \n",
       "5    6.117424    4.0      264  0.633523  0.729167     264  0.819185  0.826484   \n",
       "6    0.000000    0.0     2721  0.720146  0.722222    2721  0.329902  0.337900   \n",
       "7    7.470588    3.0       17  0.611928  0.671296      17  0.843943  0.840183   \n",
       "8   13.000000    9.5        8  0.543981  0.569444       8  0.833904  0.831050   \n",
       "9    3.183406    2.0      916  0.527338  0.555556     916  0.813782  0.817352   \n",
       "10   3.146465    2.0      594  0.495807  0.520833     594  0.860969  0.863014   \n",
       "11   1.639098    1.0     1995  0.770482  0.782407    1995  0.739973  0.748858   \n",
       "\n",
       "   Avg_Ticket_Value                           Customer_Value               \\\n",
       "               size         mean       median           size         mean   \n",
       "0              3104   315.455017   229.000000           3104   -10.435325   \n",
       "1                93   740.840805   628.276596             93  1215.645161   \n",
       "2                69   773.410676   672.971429             69 -1152.797101   \n",
       "3               216   547.321328   496.900000            216   611.097222   \n",
       "4                 3  2109.159596   852.606061              3  5927.500000   \n",
       "5               264   638.679756   541.637500            264  -553.106061   \n",
       "6              2721   359.758632   281.000000           2721     0.000000   \n",
       "7                17  1361.537628   827.428571             17  2371.426471   \n",
       "8                 8  3212.465970  1292.164835              8 -3028.968750   \n",
       "9               916   485.821514   448.625000            916  -210.227347   \n",
       "10              594   339.197706   304.692308            594   249.835859   \n",
       "11             1995   266.273467   211.333333           1995   -10.300752   \n",
       "\n",
       "              \n",
       "      median  \n",
       "0      0.000  \n",
       "1   1157.250  \n",
       "2  -1083.250  \n",
       "3    572.500  \n",
       "4   6391.500  \n",
       "5   -528.375  \n",
       "6      0.000  \n",
       "7   2305.250  \n",
       "8  -2594.000  \n",
       "9   -198.750  \n",
       "10   234.750  \n",
       "11     0.000  "
      ]
     },
     "execution_count": 254,
     "metadata": {},
     "output_type": "execute_result"
    }
   ],
   "source": [
    "user_segmenst.reset_index()"
   ]
  },
  {
   "cell_type": "code",
   "execution_count": 143,
   "metadata": {},
   "outputs": [
    {
     "data": {
      "text/plain": [
       "216"
      ]
     },
     "execution_count": 143,
     "metadata": {},
     "output_type": "execute_result"
    }
   ],
   "source": [
    "abs(finaldataframe.customer_duration.min()-finaldataframe.customer_duration.max())"
   ]
  },
  {
   "cell_type": "code",
   "execution_count": 145,
   "metadata": {},
   "outputs": [
    {
     "data": {
      "text/plain": [
       "993"
      ]
     },
     "execution_count": 145,
     "metadata": {},
     "output_type": "execute_result"
    }
   ],
   "source": [
    "abs(finaldataframe.customer_recency.min())"
   ]
  },
  {
   "cell_type": "code",
   "execution_count": 158,
   "metadata": {},
   "outputs": [],
   "source": [
    "x=finaldataframe[finaldataframe['cluster_id']==1]"
   ]
  },
  {
   "cell_type": "code",
   "execution_count": 160,
   "metadata": {},
   "outputs": [
    {
     "data": {
      "text/plain": [
       "0.0"
      ]
     },
     "execution_count": 160,
     "metadata": {},
     "output_type": "execute_result"
    }
   ],
   "source": [
    "x.Amount_in_last_7_days.median()"
   ]
  },
  {
   "cell_type": "code",
   "execution_count": null,
   "metadata": {},
   "outputs": [],
   "source": []
  }
 ],
 "metadata": {
  "kernelspec": {
   "display_name": "Python [conda env:anaconda2]",
   "language": "python",
   "name": "conda-env-anaconda2-py"
  },
  "language_info": {
   "codemirror_mode": {
    "name": "ipython",
    "version": 2
   },
   "file_extension": ".py",
   "mimetype": "text/x-python",
   "name": "python",
   "nbconvert_exporter": "python",
   "pygments_lexer": "ipython2",
   "version": "2.7.15"
  }
 },
 "nbformat": 4,
 "nbformat_minor": 2
}
