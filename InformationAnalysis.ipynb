{
 "cells": [
  {
   "cell_type": "markdown",
   "metadata": {},
   "source": [
    "# Initial setup\n",
    "As a first step, we import all the relevant python libraries that we will need for our analysis, such as numpy, pandas, statsmodels, and scikit-learn. Then, we import our csv dataset, using the 'read_csv()' command.\n",
    "Once our dataset is loaded we can inspect the data using the head() method to have a quick look at what columns and what kind of data we have available to work with."
   ]
  },
  {
   "cell_type": "code",
   "execution_count": 13,
   "metadata": {},
   "outputs": [
    {
     "data": {
      "text/html": [
       "<div>\n",
       "<style scoped>\n",
       "    .dataframe tbody tr th:only-of-type {\n",
       "        vertical-align: middle;\n",
       "    }\n",
       "\n",
       "    .dataframe tbody tr th {\n",
       "        vertical-align: top;\n",
       "    }\n",
       "\n",
       "    .dataframe thead th {\n",
       "        text-align: right;\n",
       "    }\n",
       "</style>\n",
       "<table border=\"1\" class=\"dataframe\">\n",
       "  <thead>\n",
       "    <tr style=\"text-align: right;\">\n",
       "      <th></th>\n",
       "      <th>customer_id</th>\n",
       "      <th>First Time</th>\n",
       "      <th>Recent Time</th>\n",
       "      <th># of Orders</th>\n",
       "      <th># of Orders in last 7 days</th>\n",
       "      <th># of Orders in last 4 weeks</th>\n",
       "      <th>Amount</th>\n",
       "      <th>Amount in last 7 days</th>\n",
       "      <th>Amount in last 4 weeks</th>\n",
       "      <th>Avg_DistanceFromResturant</th>\n",
       "      <th>Avg_DeliveryTime</th>\n",
       "    </tr>\n",
       "  </thead>\n",
       "  <tbody>\n",
       "    <tr>\n",
       "      <th>0</th>\n",
       "      <td>1269647</td>\n",
       "      <td>6/29/15 10:57</td>\n",
       "      <td>12/10/15 2:18</td>\n",
       "      <td>212</td>\n",
       "      <td>6.0</td>\n",
       "      <td>43.0</td>\n",
       "      <td>138808</td>\n",
       "      <td>4291</td>\n",
       "      <td>26853</td>\n",
       "      <td>1.6</td>\n",
       "      <td>51</td>\n",
       "    </tr>\n",
       "    <tr>\n",
       "      <th>1</th>\n",
       "      <td>167631</td>\n",
       "      <td>7/4/15 15:39</td>\n",
       "      <td>12/15/15 14:42</td>\n",
       "      <td>211</td>\n",
       "      <td>8.0</td>\n",
       "      <td>19.0</td>\n",
       "      <td>56404</td>\n",
       "      <td>1925</td>\n",
       "      <td>4177</td>\n",
       "      <td>2.2</td>\n",
       "      <td>42</td>\n",
       "    </tr>\n",
       "    <tr>\n",
       "      <th>2</th>\n",
       "      <td>301524</td>\n",
       "      <td>6/26/15 9:56</td>\n",
       "      <td>12/9/15 20:45</td>\n",
       "      <td>189</td>\n",
       "      <td>9.0</td>\n",
       "      <td>33.0</td>\n",
       "      <td>36020</td>\n",
       "      <td>1772</td>\n",
       "      <td>6404</td>\n",
       "      <td>2.5</td>\n",
       "      <td>57</td>\n",
       "    </tr>\n",
       "    <tr>\n",
       "      <th>3</th>\n",
       "      <td>1268254</td>\n",
       "      <td>7/1/15 1:51</td>\n",
       "      <td>12/14/15 1:43</td>\n",
       "      <td>184</td>\n",
       "      <td>6.0</td>\n",
       "      <td>37.0</td>\n",
       "      <td>32489</td>\n",
       "      <td>975</td>\n",
       "      <td>7110</td>\n",
       "      <td>3.1</td>\n",
       "      <td>55</td>\n",
       "    </tr>\n",
       "    <tr>\n",
       "      <th>4</th>\n",
       "      <td>357161</td>\n",
       "      <td>7/11/15 18:34</td>\n",
       "      <td>12/19/15 23:26</td>\n",
       "      <td>182</td>\n",
       "      <td>4.0</td>\n",
       "      <td>23.0</td>\n",
       "      <td>85150</td>\n",
       "      <td>1738</td>\n",
       "      <td>9958</td>\n",
       "      <td>2.4</td>\n",
       "      <td>36</td>\n",
       "    </tr>\n",
       "  </tbody>\n",
       "</table>\n",
       "</div>"
      ],
      "text/plain": [
       "   customer_id     First Time     Recent Time  # of Orders  \\\n",
       "0      1269647  6/29/15 10:57   12/10/15 2:18          212   \n",
       "1       167631   7/4/15 15:39  12/15/15 14:42          211   \n",
       "2       301524   6/26/15 9:56   12/9/15 20:45          189   \n",
       "3      1268254    7/1/15 1:51   12/14/15 1:43          184   \n",
       "4       357161  7/11/15 18:34  12/19/15 23:26          182   \n",
       "\n",
       "   # of Orders in last 7 days  # of Orders in last 4 weeks  Amount  \\\n",
       "0                         6.0                         43.0  138808   \n",
       "1                         8.0                         19.0   56404   \n",
       "2                         9.0                         33.0   36020   \n",
       "3                         6.0                         37.0   32489   \n",
       "4                         4.0                         23.0   85150   \n",
       "\n",
       "   Amount in last 7 days  Amount in last 4 weeks  Avg_DistanceFromResturant  \\\n",
       "0                   4291                   26853                        1.6   \n",
       "1                   1925                    4177                        2.2   \n",
       "2                   1772                    6404                        2.5   \n",
       "3                    975                    7110                        3.1   \n",
       "4                   1738                    9958                        2.4   \n",
       "\n",
       "   Avg_DeliveryTime  \n",
       "0                51  \n",
       "1                42  \n",
       "2                57  \n",
       "3                55  \n",
       "4                36  "
      ]
     },
     "metadata": {},
     "output_type": "display_data"
    }
   ],
   "source": [
    "# Import Modules\n",
    "import pandas as pd \n",
    "import numpy as np\n",
    "from sklearn.model_selection import train_test_split\n",
    "from sklearn.ensemble import RandomForestClassifier\n",
    "from sklearn.metrics import confusion_matrix\n",
    "from sklearn.metrics import roc_curve\n",
    "import matplotlib\n",
    "import matplotlib.pyplot as plt\n",
    "from IPython.display import display, HTML\n",
    "import csv\n",
    "from sklearn.feature_selection import VarianceThreshold\n",
    "from sklearn.cluster import KMeans\n",
    "from sklearn import metrics\n",
    "from scipy.spatial.distance import cdist\n",
    "import numpy as np\n",
    "import matplotlib.pyplot as plt\n",
    "from datetime import datetime as dt\n",
    "import datetime\n",
    "\n",
    "FILE_NAME = 'information.csv'\n",
    "\n",
    "input_data = pd.read_csv(FILE_NAME)\n",
    "display(input_data.head(5))"
   ]
  },
  {
   "cell_type": "code",
   "execution_count": 12,
   "metadata": {},
   "outputs": [
    {
     "name": "stdout",
     "output_type": "stream",
     "text": [
      "('Number of rows: ', 10000)\n"
     ]
    },
    {
     "data": {
      "text/html": [
       "<div>\n",
       "<style scoped>\n",
       "    .dataframe tbody tr th:only-of-type {\n",
       "        vertical-align: middle;\n",
       "    }\n",
       "\n",
       "    .dataframe tbody tr th {\n",
       "        vertical-align: top;\n",
       "    }\n",
       "\n",
       "    .dataframe thead th {\n",
       "        text-align: right;\n",
       "    }\n",
       "</style>\n",
       "<table border=\"1\" class=\"dataframe\">\n",
       "  <thead>\n",
       "    <tr style=\"text-align: right;\">\n",
       "      <th></th>\n",
       "      <th>customer_id</th>\n",
       "      <th># of Orders</th>\n",
       "      <th># of Orders in last 7 days</th>\n",
       "      <th># of Orders in last 4 weeks</th>\n",
       "      <th>Amount</th>\n",
       "      <th>Amount in last 7 days</th>\n",
       "      <th>Amount in last 4 weeks</th>\n",
       "      <th>Avg_DistanceFromResturant</th>\n",
       "      <th>Avg_DeliveryTime</th>\n",
       "    </tr>\n",
       "  </thead>\n",
       "  <tbody>\n",
       "    <tr>\n",
       "      <th>Count of values</th>\n",
       "      <td>10000.0</td>\n",
       "      <td>10000.0</td>\n",
       "      <td>1923.0</td>\n",
       "      <td>4341.0</td>\n",
       "      <td>10000.0</td>\n",
       "      <td>10000.0</td>\n",
       "      <td>10000.0</td>\n",
       "      <td>10000.0</td>\n",
       "      <td>10000.0</td>\n",
       "    </tr>\n",
       "  </tbody>\n",
       "</table>\n",
       "</div>"
      ],
      "text/plain": [
       "                 customer_id  # of Orders  # of Orders in last 7 days  \\\n",
       "Count of values      10000.0      10000.0                      1923.0   \n",
       "\n",
       "                 # of Orders in last 4 weeks   Amount  Amount in last 7 days  \\\n",
       "Count of values                       4341.0  10000.0                10000.0   \n",
       "\n",
       "                 Amount in last 4 weeks  Avg_DistanceFromResturant  \\\n",
       "Count of values                 10000.0                    10000.0   \n",
       "\n",
       "                 Avg_DeliveryTime  \n",
       "Count of values           10000.0  "
      ]
     },
     "metadata": {},
     "output_type": "display_data"
    }
   ],
   "source": [
    "print(\"Number of rows: \",input_data.shape[0])\n",
    "counts = input_data.describe().iloc[0]\n",
    "display(\n",
    "    pd.DataFrame(\n",
    "        counts.tolist(), \n",
    "        columns=[\"Count of values\"], \n",
    "        index=counts.index.values\n",
    "    ).transpose()\n",
    ")"
   ]
  },
  {
   "cell_type": "markdown",
   "metadata": {},
   "source": [
    "Infering Columns To Use the Row"
   ]
  },
  {
   "cell_type": "code",
   "execution_count": 41,
   "metadata": {},
   "outputs": [],
   "source": [
    "input_data['First Time']=pd.to_datetime(input_data['First Time'], infer_datetime_format=True)\n",
    "input_data['Recent Time']=pd.to_datetime(input_data['Recent Time'], infer_datetime_format=True)\n",
    "input_data['customer_duration'] = input_data.apply(lambda x: (datetime.date.today()-x['First Time'].date()).days, axis=1)\n",
    "input_data['customer_recency'] = input_data.apply(lambda x: (datetime.date.today()-x['Recent Time'].date()).days, axis=1)\n"
   ]
  },
  {
   "cell_type": "code",
   "execution_count": 63,
   "metadata": {},
   "outputs": [
    {
     "name": "stdout",
     "output_type": "stream",
     "text": [
      "[9.66652009e-01 2.12976432e-02 9.22612939e-03 2.80310945e-03\n",
      " 1.68624620e-05 2.22752280e-06 1.94859935e-06 5.49416771e-08\n",
      " 8.65440418e-09]\n",
      "[4.67483462e+05 7.07909435e+04 5.09424863e+04 2.14471489e+04\n",
      " 1.66243303e+03 6.04009552e+02 5.64928967e+02 9.48600674e+01\n",
      " 3.76487929e+01]\n"
     ]
    }
   ],
   "source": [
    "from sklearn.decomposition import TruncatedSVD\n",
    "\n",
    "dataframe = input_data[['# of Orders','# of Orders in last 7 days','# of Orders in last 4 weeks','Amount','Amount in last 7 days','Amount in last 4 weeks','Avg_DistanceFromResturant','Avg_DeliveryTime','customer_duration','customer_recency']]\n",
    "svd = TruncatedSVD(n_components=9, n_iter=15, random_state=42)\n",
    "dataframe=dataframe.dropna()\n",
    "svd.fit(dataframe.values.tolist()) \n",
    "print(svd.explained_variance_ratio_)\n",
    "var_ratios=svd.explained_variance_ratio_\n",
    "print(svd.singular_values_)"
   ]
  },
  {
   "cell_type": "code",
   "execution_count": 67,
   "metadata": {},
   "outputs": [
    {
     "name": "stdout",
     "output_type": "stream",
     "text": [
      "get the dimensions coeff\n"
     ]
    },
    {
     "data": {
      "text/plain": [
       "'+0.002*# of Orders +0.000*# of Orders in last 7 days +0.000*# of Orders in last 4 weeks +0.971*Amount +0.061*Amount in last 7 days +0.216*Amount in last 4 weeks +0.000*Avg_DistanceFromResturant +0.002*Avg_DeliveryTime +0.057*customer_duration +0.050*customer_recency'"
      ]
     },
     "execution_count": 67,
     "metadata": {},
     "output_type": "execute_result"
    }
   ],
   "source": [
    "print \"get the dimensions coeff\" \n",
    "\" \".join([\n",
    "    \"%+0.3f*%s\" % (coef, feat) \n",
    "    for coef, feat in zip(svd.components_[0], dataframe.columns)\n",
    "])"
   ]
  },
  {
   "cell_type": "markdown",
   "metadata": {},
   "source": [
    "# Feature Selection\n",
    "Based on variance results we will select \n",
    "1. customer_recency\n",
    "2. customer_duration\n",
    "3. Amount in last 4 weeks\n",
    "4. Amount in last 7 days\n",
    "5. Amount\n",
    "\n",
    "For further analysis"
   ]
  },
  {
   "cell_type": "code",
   "execution_count": 93,
   "metadata": {},
   "outputs": [
    {
     "name": "stdout",
     "output_type": "stream",
     "text": [
      "Columns Having None : []\n"
     ]
    }
   ],
   "source": [
    "\n",
    "input_data['Amount_in_last_7_days']=input_data['Amount in last 7 days']\n",
    "input_data['Amount_in_last_4_weeks']=input_data['Amount in last 4 weeks']\n",
    "finaldataframe = input_data[['customer_id','Amount','Amount_in_last_7_days','Amount_in_last_4_weeks','customer_duration','customer_recency']]\n",
    "print \"Columns Having None :\",finaldataframe.columns[finaldataframe.isna().any()].tolist()"
   ]
  },
  {
   "cell_type": "code",
   "execution_count": 94,
   "metadata": {},
   "outputs": [
    {
     "data": {
      "text/plain": [
       "(10000, 6)"
      ]
     },
     "execution_count": 94,
     "metadata": {},
     "output_type": "execute_result"
    }
   ],
   "source": [
    "finaldataframe.shape"
   ]
  },
  {
   "cell_type": "code",
   "execution_count": 95,
   "metadata": {},
   "outputs": [
    {
     "data": {
      "text/html": [
       "<div>\n",
       "<style scoped>\n",
       "    .dataframe tbody tr th:only-of-type {\n",
       "        vertical-align: middle;\n",
       "    }\n",
       "\n",
       "    .dataframe tbody tr th {\n",
       "        vertical-align: top;\n",
       "    }\n",
       "\n",
       "    .dataframe thead th {\n",
       "        text-align: right;\n",
       "    }\n",
       "</style>\n",
       "<table border=\"1\" class=\"dataframe\">\n",
       "  <thead>\n",
       "    <tr style=\"text-align: right;\">\n",
       "      <th></th>\n",
       "      <th>customer_id</th>\n",
       "      <th>Amount</th>\n",
       "      <th>Amount_in_last_7_days</th>\n",
       "      <th>Amount_in_last_4_weeks</th>\n",
       "      <th>customer_duration</th>\n",
       "      <th>customer_recency</th>\n",
       "    </tr>\n",
       "  </thead>\n",
       "  <tbody>\n",
       "    <tr>\n",
       "      <th>0</th>\n",
       "      <td>1269647</td>\n",
       "      <td>138808</td>\n",
       "      <td>4291</td>\n",
       "      <td>26853</td>\n",
       "      <td>1191</td>\n",
       "      <td>1027</td>\n",
       "    </tr>\n",
       "    <tr>\n",
       "      <th>1</th>\n",
       "      <td>167631</td>\n",
       "      <td>56404</td>\n",
       "      <td>1925</td>\n",
       "      <td>4177</td>\n",
       "      <td>1186</td>\n",
       "      <td>1022</td>\n",
       "    </tr>\n",
       "    <tr>\n",
       "      <th>2</th>\n",
       "      <td>301524</td>\n",
       "      <td>36020</td>\n",
       "      <td>1772</td>\n",
       "      <td>6404</td>\n",
       "      <td>1194</td>\n",
       "      <td>1028</td>\n",
       "    </tr>\n",
       "    <tr>\n",
       "      <th>3</th>\n",
       "      <td>1268254</td>\n",
       "      <td>32489</td>\n",
       "      <td>975</td>\n",
       "      <td>7110</td>\n",
       "      <td>1189</td>\n",
       "      <td>1023</td>\n",
       "    </tr>\n",
       "    <tr>\n",
       "      <th>4</th>\n",
       "      <td>357161</td>\n",
       "      <td>85150</td>\n",
       "      <td>1738</td>\n",
       "      <td>9958</td>\n",
       "      <td>1179</td>\n",
       "      <td>1018</td>\n",
       "    </tr>\n",
       "  </tbody>\n",
       "</table>\n",
       "</div>"
      ],
      "text/plain": [
       "   customer_id  Amount  Amount_in_last_7_days  Amount_in_last_4_weeks  \\\n",
       "0      1269647  138808                   4291                   26853   \n",
       "1       167631   56404                   1925                    4177   \n",
       "2       301524   36020                   1772                    6404   \n",
       "3      1268254   32489                    975                    7110   \n",
       "4       357161   85150                   1738                    9958   \n",
       "\n",
       "   customer_duration  customer_recency  \n",
       "0               1191              1027  \n",
       "1               1186              1022  \n",
       "2               1194              1028  \n",
       "3               1189              1023  \n",
       "4               1179              1018  "
      ]
     },
     "execution_count": 95,
     "metadata": {},
     "output_type": "execute_result"
    }
   ],
   "source": [
    "finaldataframe.head()"
   ]
  },
  {
   "cell_type": "code",
   "execution_count": 96,
   "metadata": {},
   "outputs": [
    {
     "data": {
      "image/png": "[encoded data removed]",
      "text/plain": [
       "<Figure size 432x288 with 1 Axes>"
      ]
     },
     "metadata": {},
     "output_type": "display_data"
    }
   ],
   "source": [
    "finaldataframe.customer_id.groupby(finaldataframe.customer_duration).nunique().hist(bins=5);"
   ]
  },
  {
   "cell_type": "code",
   "execution_count": 97,
   "metadata": {},
   "outputs": [
    {
     "data": {
      "image/png": "[encoded data removed]",
      "text/plain": [
       "<Figure size 432x288 with 1 Axes>"
      ]
     },
     "metadata": {},
     "output_type": "display_data"
    }
   ],
   "source": [
    "finaldataframe.customer_id.groupby(finaldataframe.customer_recency).nunique().hist(bins=5);"
   ]
  },
  {
   "cell_type": "code",
   "execution_count": 98,
   "metadata": {},
   "outputs": [
    {
     "data": {
      "image/png": "[encoded data removed]",
      "text/plain": [
       "<Figure size 432x288 with 1 Axes>"
      ]
     },
     "metadata": {},
     "output_type": "display_data"
    }
   ],
   "source": [
    "finaldataframe.customer_id.groupby(finaldataframe.Amount).nunique().hist(bins=5);"
   ]
  },
  {
   "cell_type": "code",
   "execution_count": 99,
   "metadata": {},
   "outputs": [
    {
     "data": {
      "image/png": "[encoded data removed]",
      "text/plain": [
       "<Figure size 432x288 with 1 Axes>"
      ]
     },
     "metadata": {},
     "output_type": "display_data"
    }
   ],
   "source": [
    "finaldataframe.customer_id.groupby(finaldataframe.Amount_in_last_4_weeks).nunique().hist(bins=5);"
   ]
  },
  {
   "cell_type": "code",
   "execution_count": 100,
   "metadata": {},
   "outputs": [
    {
     "data": {
      "image/png": "[encoded data removed]",
      "text/plain": [
       "<Figure size 432x288 with 1 Axes>"
      ]
     },
     "metadata": {},
     "output_type": "display_data"
    }
   ],
   "source": [
    "finaldataframe.customer_id.groupby(finaldataframe.Amount_in_last_7_days).nunique().hist(bins=5);"
   ]
  },
  {
   "cell_type": "markdown",
   "metadata": {},
   "source": [
    "# Clustering of the Users"
   ]
  },
  {
   "cell_type": "code",
   "execution_count": 101,
   "metadata": {},
   "outputs": [],
   "source": [
    "finaldataframe = input_data[['Amount','Amount_in_last_7_days','Amount_in_last_4_weeks','customer_duration','customer_recency']]"
   ]
  },
  {
   "cell_type": "code",
   "execution_count": 110,
   "metadata": {},
   "outputs": [],
   "source": []
  },
  {
   "cell_type": "code",
   "execution_count": 115,
   "metadata": {},
   "outputs": [
    {
     "data": {
      "image/png": "[encoded data removed]",
      "text/plain": [
       "<Figure size 432x288 with 1 Axes>"
      ]
     },
     "metadata": {},
     "output_type": "display_data"
    }
   ],
   "source": [
    "data_x = finaldataframe.values\n",
    "distortions = []\n",
    "K = range(1,20)\n",
    "for k in K:\n",
    "    kmeanModel = KMeans(n_clusters=k).fit(data_x)\n",
    "    kmeanModel.fit(data_x)\n",
    "    distortions.append(sum(np.min(cdist(data_x, kmeanModel.cluster_centers_, 'euclidean'), axis=1)) / data_x.shape[0])\n",
    "\n",
    "plt.plot(K, distortions, 'bx-')\n",
    "plt.xlabel('k')\n",
    "plt.ylabel('Distortion')\n",
    "plt.title('Optimal k')\n",
    "plt.show()"
   ]
  },
  {
   "cell_type": "code",
   "execution_count": 116,
   "metadata": {},
   "outputs": [],
   "source": [
    "FINAL_K = 9\n",
    "kmeanModel = KMeans(n_clusters=FINAL_K).fit(data_x)"
   ]
  },
  {
   "cell_type": "code",
   "execution_count": 119,
   "metadata": {},
   "outputs": [],
   "source": [
    "customer_labels = kmeanModel.labels_"
   ]
  },
  {
   "cell_type": "code",
   "execution_count": 118,
   "metadata": {},
   "outputs": [],
   "source": [
    "finaldataframe = input_data[['customer_id','Amount','Amount_in_last_7_days','Amount_in_last_4_weeks','customer_duration','customer_recency']]"
   ]
  },
  {
   "cell_type": "code",
   "execution_count": 121,
   "metadata": {},
   "outputs": [],
   "source": [
    "rows = finaldataframe.shape[0]"
   ]
  },
  {
   "cell_type": "code",
   "execution_count": 123,
   "metadata": {},
   "outputs": [
    {
     "name": "stderr",
     "output_type": "stream",
     "text": [
      "/home/ubuntu/anaconda2/lib/python2.7/site-packages/ipykernel/__main__.py:1: SettingWithCopyWarning: \n",
      "A value is trying to be set on a copy of a slice from a DataFrame.\n",
      "Try using .loc[row_indexer,col_indexer] = value instead\n",
      "\n",
      "See the caveats in the documentation: http://pandas.pydata.org/pandas-docs/stable/indexing.html#indexing-view-versus-copy\n",
      "  if __name__ == '__main__':\n"
     ]
    }
   ],
   "source": [
    "finaldataframe['cluster_id']=customer_labels"
   ]
  },
  {
   "cell_type": "code",
   "execution_count": 125,
   "metadata": {},
   "outputs": [
    {
     "data": {
      "text/plain": [
       "cluster_id\n",
       "0     128\n",
       "1    7172\n",
       "2      22\n",
       "3     634\n",
       "4       2\n",
       "5      52\n",
       "6    1710\n",
       "7     277\n",
       "8       3\n",
       "dtype: int64"
      ]
     },
     "execution_count": 125,
     "metadata": {},
     "output_type": "execute_result"
    }
   ],
   "source": [
    "finaldataframe.groupby(['cluster_id']).size()"
   ]
  },
  {
   "cell_type": "code",
   "execution_count": 155,
   "metadata": {},
   "outputs": [
    {
     "name": "stderr",
     "output_type": "stream",
     "text": [
      "/home/ubuntu/anaconda2/lib/python2.7/site-packages/ipykernel/__main__.py:1: SettingWithCopyWarning: \n",
      "A value is trying to be set on a copy of a slice from a DataFrame.\n",
      "Try using .loc[row_indexer,col_indexer] = value instead\n",
      "\n",
      "See the caveats in the documentation: http://pandas.pydata.org/pandas-docs/stable/indexing.html#indexing-view-versus-copy\n",
      "  if __name__ == '__main__':\n",
      "/home/ubuntu/anaconda2/lib/python2.7/site-packages/ipykernel/__main__.py:2: SettingWithCopyWarning: \n",
      "A value is trying to be set on a copy of a slice from a DataFrame.\n",
      "Try using .loc[row_indexer,col_indexer] = value instead\n",
      "\n",
      "See the caveats in the documentation: http://pandas.pydata.org/pandas-docs/stable/indexing.html#indexing-view-versus-copy\n",
      "  from ipykernel import kernelapp as app\n"
     ]
    }
   ],
   "source": [
    "finaldataframe['recency']=(finaldataframe.customer_recency.max()-finaldataframe['customer_recency'])*1.0/abs(finaldataframe.customer_recency.min()-finaldataframe.customer_recency.max())\n",
    "finaldataframe['duration']=(finaldataframe['customer_duration']-finaldataframe.customer_duration.min())*1.0/abs(finaldataframe.customer_duration.min()-finaldataframe.customer_duration.max())\n",
    "user_segmenst=finaldataframe.groupby(['cluster_id'])['Amount','Amount_in_last_7_days','Amount_in_last_4_weeks','duration','recency'].agg(['size','mean','median'])"
   ]
  },
  {
   "cell_type": "code",
   "execution_count": 156,
   "metadata": {},
   "outputs": [
    {
     "data": {
      "text/html": [
       "<div>\n",
       "<style scoped>\n",
       "    .dataframe tbody tr th:only-of-type {\n",
       "        vertical-align: middle;\n",
       "    }\n",
       "\n",
       "    .dataframe tbody tr th {\n",
       "        vertical-align: top;\n",
       "    }\n",
       "\n",
       "    .dataframe thead tr th {\n",
       "        text-align: left;\n",
       "    }\n",
       "</style>\n",
       "<table border=\"1\" class=\"dataframe\">\n",
       "  <thead>\n",
       "    <tr>\n",
       "      <th></th>\n",
       "      <th>cluster_id</th>\n",
       "      <th colspan=\"3\" halign=\"left\">Amount</th>\n",
       "      <th colspan=\"3\" halign=\"left\">Amount_in_last_7_days</th>\n",
       "      <th colspan=\"3\" halign=\"left\">Amount_in_last_4_weeks</th>\n",
       "      <th colspan=\"3\" halign=\"left\">duration</th>\n",
       "      <th colspan=\"3\" halign=\"left\">recency</th>\n",
       "    </tr>\n",
       "    <tr>\n",
       "      <th></th>\n",
       "      <th></th>\n",
       "      <th>size</th>\n",
       "      <th>mean</th>\n",
       "      <th>median</th>\n",
       "      <th>size</th>\n",
       "      <th>mean</th>\n",
       "      <th>median</th>\n",
       "      <th>size</th>\n",
       "      <th>mean</th>\n",
       "      <th>median</th>\n",
       "      <th>size</th>\n",
       "      <th>mean</th>\n",
       "      <th>median</th>\n",
       "      <th>size</th>\n",
       "      <th>mean</th>\n",
       "      <th>median</th>\n",
       "    </tr>\n",
       "  </thead>\n",
       "  <tbody>\n",
       "    <tr>\n",
       "      <th>0</th>\n",
       "      <td>0</td>\n",
       "      <td>128</td>\n",
       "      <td>20856.187500</td>\n",
       "      <td>20674.0</td>\n",
       "      <td>128</td>\n",
       "      <td>780.156250</td>\n",
       "      <td>509.0</td>\n",
       "      <td>128</td>\n",
       "      <td>3907.289062</td>\n",
       "      <td>3161.0</td>\n",
       "      <td>128</td>\n",
       "      <td>0.804579</td>\n",
       "      <td>0.828704</td>\n",
       "      <td>128</td>\n",
       "      <td>0.821347</td>\n",
       "      <td>0.842466</td>\n",
       "    </tr>\n",
       "    <tr>\n",
       "      <th>1</th>\n",
       "      <td>1</td>\n",
       "      <td>7172</td>\n",
       "      <td>546.165923</td>\n",
       "      <td>428.5</td>\n",
       "      <td>7172</td>\n",
       "      <td>28.195482</td>\n",
       "      <td>0.0</td>\n",
       "      <td>7172</td>\n",
       "      <td>111.035416</td>\n",
       "      <td>0.0</td>\n",
       "      <td>7172</td>\n",
       "      <td>0.524589</td>\n",
       "      <td>0.532407</td>\n",
       "      <td>7172</td>\n",
       "      <td>0.588212</td>\n",
       "      <td>0.625571</td>\n",
       "    </tr>\n",
       "    <tr>\n",
       "      <th>2</th>\n",
       "      <td>2</td>\n",
       "      <td>22</td>\n",
       "      <td>49436.136364</td>\n",
       "      <td>47128.5</td>\n",
       "      <td>22</td>\n",
       "      <td>2372.181818</td>\n",
       "      <td>2108.0</td>\n",
       "      <td>22</td>\n",
       "      <td>8795.636364</td>\n",
       "      <td>9022.0</td>\n",
       "      <td>22</td>\n",
       "      <td>0.835227</td>\n",
       "      <td>0.854167</td>\n",
       "      <td>22</td>\n",
       "      <td>0.828767</td>\n",
       "      <td>0.849315</td>\n",
       "    </tr>\n",
       "    <tr>\n",
       "      <th>3</th>\n",
       "      <td>3</td>\n",
       "      <td>634</td>\n",
       "      <td>6765.094637</td>\n",
       "      <td>6544.5</td>\n",
       "      <td>634</td>\n",
       "      <td>321.611987</td>\n",
       "      <td>0.0</td>\n",
       "      <td>634</td>\n",
       "      <td>1387.123028</td>\n",
       "      <td>1092.0</td>\n",
       "      <td>634</td>\n",
       "      <td>0.735512</td>\n",
       "      <td>0.787037</td>\n",
       "      <td>634</td>\n",
       "      <td>0.785547</td>\n",
       "      <td>0.812785</td>\n",
       "    </tr>\n",
       "    <tr>\n",
       "      <th>4</th>\n",
       "      <td>4</td>\n",
       "      <td>2</td>\n",
       "      <td>131828.500000</td>\n",
       "      <td>131828.5</td>\n",
       "      <td>2</td>\n",
       "      <td>2145.500000</td>\n",
       "      <td>2145.5</td>\n",
       "      <td>2</td>\n",
       "      <td>13426.500000</td>\n",
       "      <td>13426.5</td>\n",
       "      <td>2</td>\n",
       "      <td>0.937500</td>\n",
       "      <td>0.937500</td>\n",
       "      <td>2</td>\n",
       "      <td>0.726027</td>\n",
       "      <td>0.726027</td>\n",
       "    </tr>\n",
       "    <tr>\n",
       "      <th>5</th>\n",
       "      <td>5</td>\n",
       "      <td>52</td>\n",
       "      <td>32168.384615</td>\n",
       "      <td>31684.5</td>\n",
       "      <td>52</td>\n",
       "      <td>1546.538462</td>\n",
       "      <td>1165.0</td>\n",
       "      <td>52</td>\n",
       "      <td>5892.730769</td>\n",
       "      <td>5497.5</td>\n",
       "      <td>52</td>\n",
       "      <td>0.820780</td>\n",
       "      <td>0.844907</td>\n",
       "      <td>52</td>\n",
       "      <td>0.844924</td>\n",
       "      <td>0.851598</td>\n",
       "    </tr>\n",
       "    <tr>\n",
       "      <th>6</th>\n",
       "      <td>6</td>\n",
       "      <td>1710</td>\n",
       "      <td>2903.991813</td>\n",
       "      <td>2732.0</td>\n",
       "      <td>1710</td>\n",
       "      <td>167.778363</td>\n",
       "      <td>0.0</td>\n",
       "      <td>1710</td>\n",
       "      <td>655.136842</td>\n",
       "      <td>412.5</td>\n",
       "      <td>1710</td>\n",
       "      <td>0.647918</td>\n",
       "      <td>0.708333</td>\n",
       "      <td>1710</td>\n",
       "      <td>0.736855</td>\n",
       "      <td>0.785388</td>\n",
       "    </tr>\n",
       "    <tr>\n",
       "      <th>7</th>\n",
       "      <td>7</td>\n",
       "      <td>277</td>\n",
       "      <td>12330.815884</td>\n",
       "      <td>12099.0</td>\n",
       "      <td>277</td>\n",
       "      <td>573.451264</td>\n",
       "      <td>227.0</td>\n",
       "      <td>277</td>\n",
       "      <td>2512.180505</td>\n",
       "      <td>2034.0</td>\n",
       "      <td>277</td>\n",
       "      <td>0.781789</td>\n",
       "      <td>0.819444</td>\n",
       "      <td>277</td>\n",
       "      <td>0.816841</td>\n",
       "      <td>0.831050</td>\n",
       "    </tr>\n",
       "    <tr>\n",
       "      <th>8</th>\n",
       "      <td>8</td>\n",
       "      <td>3</td>\n",
       "      <td>83834.000000</td>\n",
       "      <td>85150.0</td>\n",
       "      <td>3</td>\n",
       "      <td>2116.333333</td>\n",
       "      <td>1738.0</td>\n",
       "      <td>3</td>\n",
       "      <td>12020.000000</td>\n",
       "      <td>9958.0</td>\n",
       "      <td>3</td>\n",
       "      <td>0.842593</td>\n",
       "      <td>0.833333</td>\n",
       "      <td>3</td>\n",
       "      <td>0.882801</td>\n",
       "      <td>0.885845</td>\n",
       "    </tr>\n",
       "  </tbody>\n",
       "</table>\n",
       "</div>"
      ],
      "text/plain": [
       "  cluster_id Amount                          Amount_in_last_7_days  \\\n",
       "               size           mean    median                  size   \n",
       "0          0    128   20856.187500   20674.0                   128   \n",
       "1          1   7172     546.165923     428.5                  7172   \n",
       "2          2     22   49436.136364   47128.5                    22   \n",
       "3          3    634    6765.094637    6544.5                   634   \n",
       "4          4      2  131828.500000  131828.5                     2   \n",
       "5          5     52   32168.384615   31684.5                    52   \n",
       "6          6   1710    2903.991813    2732.0                  1710   \n",
       "7          7    277   12330.815884   12099.0                   277   \n",
       "8          8      3   83834.000000   85150.0                     3   \n",
       "\n",
       "                       Amount_in_last_4_weeks                        duration  \\\n",
       "          mean  median                   size          mean   median     size   \n",
       "0   780.156250   509.0                    128   3907.289062   3161.0      128   \n",
       "1    28.195482     0.0                   7172    111.035416      0.0     7172   \n",
       "2  2372.181818  2108.0                     22   8795.636364   9022.0       22   \n",
       "3   321.611987     0.0                    634   1387.123028   1092.0      634   \n",
       "4  2145.500000  2145.5                      2  13426.500000  13426.5        2   \n",
       "5  1546.538462  1165.0                     52   5892.730769   5497.5       52   \n",
       "6   167.778363     0.0                   1710    655.136842    412.5     1710   \n",
       "7   573.451264   227.0                    277   2512.180505   2034.0      277   \n",
       "8  2116.333333  1738.0                      3  12020.000000   9958.0        3   \n",
       "\n",
       "                      recency                      \n",
       "       mean    median    size      mean    median  \n",
       "0  0.804579  0.828704     128  0.821347  0.842466  \n",
       "1  0.524589  0.532407    7172  0.588212  0.625571  \n",
       "2  0.835227  0.854167      22  0.828767  0.849315  \n",
       "3  0.735512  0.787037     634  0.785547  0.812785  \n",
       "4  0.937500  0.937500       2  0.726027  0.726027  \n",
       "5  0.820780  0.844907      52  0.844924  0.851598  \n",
       "6  0.647918  0.708333    1710  0.736855  0.785388  \n",
       "7  0.781789  0.819444     277  0.816841  0.831050  \n",
       "8  0.842593  0.833333       3  0.882801  0.885845  "
      ]
     },
     "execution_count": 156,
     "metadata": {},
     "output_type": "execute_result"
    }
   ],
   "source": [
    "user_segmenst.reset_index()"
   ]
  },
  {
   "cell_type": "code",
   "execution_count": 143,
   "metadata": {},
   "outputs": [
    {
     "data": {
      "text/plain": [
       "216"
      ]
     },
     "execution_count": 143,
     "metadata": {},
     "output_type": "execute_result"
    }
   ],
   "source": [
    "abs(finaldataframe.customer_duration.min()-finaldataframe.customer_duration.max())"
   ]
  },
  {
   "cell_type": "code",
   "execution_count": 145,
   "metadata": {},
   "outputs": [
    {
     "data": {
      "text/plain": [
       "993"
      ]
     },
     "execution_count": 145,
     "metadata": {},
     "output_type": "execute_result"
    }
   ],
   "source": [
    "abs(finaldataframe.customer_recency.min())"
   ]
  },
  {
   "cell_type": "code",
   "execution_count": 158,
   "metadata": {},
   "outputs": [],
   "source": [
    "x=finaldataframe[finaldataframe['cluster_id']==1]"
   ]
  },
  {
   "cell_type": "code",
   "execution_count": 160,
   "metadata": {},
   "outputs": [
    {
     "data": {
      "text/plain": [
       "0.0"
      ]
     },
     "execution_count": 160,
     "metadata": {},
     "output_type": "execute_result"
    }
   ],
   "source": [
    "x.Amount_in_last_7_days.median()"
   ]
  },
  {
   "cell_type": "code",
   "execution_count": null,
   "metadata": {},
   "outputs": [],
   "source": []
  }
 ],
 "metadata": {
  "kernelspec": {
   "display_name": "Python [conda env:anaconda2]",
   "language": "python",
   "name": "conda-env-anaconda2-py"
  },
  "language_info": {
   "codemirror_mode": {
    "name": "ipython",
    "version": 2
   },
   "file_extension": ".py",
   "mimetype": "text/x-python",
   "name": "python",
   "nbconvert_exporter": "python",
   "pygments_lexer": "ipython2",
   "version": "2.7.15"
  }
 },
 "nbformat": 4,
 "nbformat_minor": 2
}
